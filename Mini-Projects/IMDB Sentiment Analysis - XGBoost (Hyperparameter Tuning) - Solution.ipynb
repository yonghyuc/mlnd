{
 "cells": [
  {
   "cell_type": "markdown",
   "metadata": {},
   "source": [
    "# Sentiment Analysis\n",
    "\n",
    "## Using XGBoost in SageMaker\n",
    "\n",
    "_Deep Learning Nanodegree Program | Deployment_\n",
    "\n",
    "---\n",
    "\n",
    "In this example of using Amazon's SageMaker service we will construct a random tree model to predict the sentiment of a movie review. You may have seen a version of this example in a pervious lesson although it would have been done using the sklearn package. Instead, we will be using the XGBoost package as it is provided to us by Amazon.\n",
    "\n",
    "## Instructions\n",
    "\n",
    "Some template code has already been provided for you, and you will need to implement additional functionality to successfully complete this notebook. You will not need to modify the included code beyond what is requested. Sections that begin with '**TODO**' in the header indicate that you need to complete or implement some portion within them. Instructions will be provided for each section and the specifics of the implementation are marked in the code block with a `# TODO: ...` comment. Please be sure to read the instructions carefully!\n",
    "\n",
    "In addition to implementing code, there may be questions for you to answer which relate to the task and your implementation. Each section where you will answer a question is preceded by a '**Question:**' header. Carefully read each question and provide your answer below the '**Answer:**' header by editing the Markdown cell.\n",
    "\n",
    "> **Note**: Code and Markdown cells can be executed using the **Shift+Enter** keyboard shortcut. In addition, a cell can be edited by typically clicking it (double-click for Markdown cells) or by pressing **Enter** while it is highlighted."
   ]
  },
  {
   "cell_type": "markdown",
   "metadata": {},
   "source": [
    "## Step 1: Downloading the data\n",
    "\n",
    "The dataset we are going to use is very popular among researchers in Natural Language Processing, usually referred to as the [IMDb dataset](http://ai.stanford.edu/~amaas/data/sentiment/). It consists of movie reviews from the website [imdb.com](http://www.imdb.com/), each labeled as either '**pos**itive', if the reviewer enjoyed the film, or '**neg**ative' otherwise.\n",
    "\n",
    "> Maas, Andrew L., et al. [Learning Word Vectors for Sentiment Analysis](http://ai.stanford.edu/~amaas/data/sentiment/). In _Proceedings of the 49th Annual Meeting of the Association for Computational Linguistics: Human Language Technologies_. Association for Computational Linguistics, 2011.\n",
    "\n",
    "We begin by using some Jupyter Notebook magic to download and extract the dataset."
   ]
  },
  {
   "cell_type": "code",
   "execution_count": 1,
   "metadata": {},
   "outputs": [
    {
     "name": "stdout",
     "output_type": "stream",
     "text": [
      "mkdir: cannot create directory ‘../data’: File exists\n",
      "--2019-07-09 22:20:22--  http://ai.stanford.edu/~amaas/data/sentiment/aclImdb_v1.tar.gz\n",
      "Resolving ai.stanford.edu (ai.stanford.edu)... 171.64.68.10\n",
      "Connecting to ai.stanford.edu (ai.stanford.edu)|171.64.68.10|:80... connected.\n",
      "HTTP request sent, awaiting response... 200 OK\n",
      "Length: 84125825 (80M) [application/x-gzip]\n",
      "Saving to: ‘../data/aclImdb_v1.tar.gz’\n",
      "\n",
      "../data/aclImdb_v1. 100%[===================>]  80.23M  23.4MB/s    in 4.3s    \n",
      "\n",
      "2019-07-09 22:20:27 (18.8 MB/s) - ‘../data/aclImdb_v1.tar.gz’ saved [84125825/84125825]\n",
      "\n"
     ]
    }
   ],
   "source": [
    "%mkdir ../data\n",
    "!wget -O ../data/aclImdb_v1.tar.gz http://ai.stanford.edu/~amaas/data/sentiment/aclImdb_v1.tar.gz\n",
    "!tar -zxf ../data/aclImdb_v1.tar.gz -C ../data"
   ]
  },
  {
   "cell_type": "markdown",
   "metadata": {},
   "source": [
    "## Step 2: Preparing the data\n",
    "\n",
    "The data we have downloaded is split into various files, each of which contains a single review. It will be much easier going forward if we combine these individual files into two large files, one for training and one for testing."
   ]
  },
  {
   "cell_type": "code",
   "execution_count": 2,
   "metadata": {},
   "outputs": [],
   "source": [
    "import os\n",
    "import glob\n",
    "\n",
    "def read_imdb_data(data_dir='../data/aclImdb'):\n",
    "    data = {}\n",
    "    labels = {}\n",
    "    \n",
    "    for data_type in ['train', 'test']:\n",
    "        data[data_type] = {}\n",
    "        labels[data_type] = {}\n",
    "        \n",
    "        for sentiment in ['pos', 'neg']:\n",
    "            data[data_type][sentiment] = []\n",
    "            labels[data_type][sentiment] = []\n",
    "            \n",
    "            path = os.path.join(data_dir, data_type, sentiment, '*.txt')\n",
    "            files = glob.glob(path)\n",
    "            \n",
    "            for f in files:\n",
    "                with open(f) as review:\n",
    "                    data[data_type][sentiment].append(review.read())\n",
    "                    # Here we represent a positive review by '1' and a negative review by '0'\n",
    "                    labels[data_type][sentiment].append(1 if sentiment == 'pos' else 0)\n",
    "                    \n",
    "            assert len(data[data_type][sentiment]) == len(labels[data_type][sentiment]), \\\n",
    "                    \"{}/{} data size does not match labels size\".format(data_type, sentiment)\n",
    "                \n",
    "    return data, labels"
   ]
  },
  {
   "cell_type": "code",
   "execution_count": 3,
   "metadata": {},
   "outputs": [
    {
     "name": "stdout",
     "output_type": "stream",
     "text": [
      "IMDB reviews: train = 12500 pos / 12500 neg, test = 12500 pos / 12500 neg\n"
     ]
    }
   ],
   "source": [
    "data, labels = read_imdb_data()\n",
    "print(\"IMDB reviews: train = {} pos / {} neg, test = {} pos / {} neg\".format(\n",
    "            len(data['train']['pos']), len(data['train']['neg']),\n",
    "            len(data['test']['pos']), len(data['test']['neg'])))"
   ]
  },
  {
   "cell_type": "code",
   "execution_count": 4,
   "metadata": {},
   "outputs": [],
   "source": [
    "from sklearn.utils import shuffle\n",
    "\n",
    "def prepare_imdb_data(data, labels):\n",
    "    \"\"\"Prepare training and test sets from IMDb movie reviews.\"\"\"\n",
    "    \n",
    "    #Combine positive and negative reviews and labels\n",
    "    data_train = data['train']['pos'] + data['train']['neg']\n",
    "    data_test = data['test']['pos'] + data['test']['neg']\n",
    "    labels_train = labels['train']['pos'] + labels['train']['neg']\n",
    "    labels_test = labels['test']['pos'] + labels['test']['neg']\n",
    "    \n",
    "    #Shuffle reviews and corresponding labels within training and test sets\n",
    "    data_train, labels_train = shuffle(data_train, labels_train)\n",
    "    data_test, labels_test = shuffle(data_test, labels_test)\n",
    "    \n",
    "    # Return a unified training data, test data, training labels, test labets\n",
    "    return data_train, data_test, labels_train, labels_test"
   ]
  },
  {
   "cell_type": "code",
   "execution_count": 5,
   "metadata": {},
   "outputs": [
    {
     "name": "stdout",
     "output_type": "stream",
     "text": [
      "IMDb reviews (combined): train = 25000, test = 25000\n"
     ]
    }
   ],
   "source": [
    "train_X, test_X, train_y, test_y = prepare_imdb_data(data, labels)\n",
    "print(\"IMDb reviews (combined): train = {}, test = {}\".format(len(train_X), len(test_X)))"
   ]
  },
  {
   "cell_type": "code",
   "execution_count": 6,
   "metadata": {},
   "outputs": [
    {
     "data": {
      "text/plain": [
       "'honestly, i don\\'t know what\\'s funnier, this horrific remake, or the comments on this board. Masterpiece\\'s review had me in tears, that\\'s so funny. Anyway, this movie is the among the worst movies ever, and certainly the bottom of the barrel for sequels. The \"Omen\" name on the title made me stop and watch it this morning on HBO, but it\\'s a slap in the face to the other three, especially the original. There are so many classically bad moments, but my favorite is the guy catching fire from the juggler at the psychic fair!! good times ! This movie is to the Omen series what \"Scary Movie\" is to the entire genre. Avoid unless you\\'re looking for a good laugh.'"
      ]
     },
     "execution_count": 6,
     "metadata": {},
     "output_type": "execute_result"
    }
   ],
   "source": [
    "train_X[100]"
   ]
  },
  {
   "cell_type": "markdown",
   "metadata": {},
   "source": [
    "## Step 3: Processing the data\n",
    "\n",
    "Now that we have our training and testing datasets merged and ready to use, we need to start processing the raw data into something that will be useable by our machine learning algorithm. To begin with, we remove any html formatting that may appear in the reviews and perform some standard natural language processing in order to homogenize the data."
   ]
  },
  {
   "cell_type": "code",
   "execution_count": 7,
   "metadata": {},
   "outputs": [
    {
     "name": "stdout",
     "output_type": "stream",
     "text": [
      "[nltk_data] Downloading package stopwords to\n",
      "[nltk_data]     /home/ec2-user/nltk_data...\n",
      "[nltk_data]   Package stopwords is already up-to-date!\n"
     ]
    }
   ],
   "source": [
    "import nltk\n",
    "nltk.download(\"stopwords\")\n",
    "from nltk.corpus import stopwords\n",
    "from nltk.stem.porter import *\n",
    "stemmer = PorterStemmer()"
   ]
  },
  {
   "cell_type": "code",
   "execution_count": 8,
   "metadata": {},
   "outputs": [],
   "source": [
    "import re\n",
    "from bs4 import BeautifulSoup\n",
    "\n",
    "def review_to_words(review):\n",
    "    text = BeautifulSoup(review, \"html.parser\").get_text() # Remove HTML tags\n",
    "    text = re.sub(r\"[^a-zA-Z0-9]\", \" \", text.lower()) # Convert to lower case\n",
    "    words = text.split() # Split string into words\n",
    "    words = [w for w in words if w not in stopwords.words(\"english\")] # Remove stopwords\n",
    "    words = [PorterStemmer().stem(w) for w in words] # stem\n",
    "    \n",
    "    return words"
   ]
  },
  {
   "cell_type": "code",
   "execution_count": 9,
   "metadata": {},
   "outputs": [],
   "source": [
    "import pickle\n",
    "\n",
    "cache_dir = os.path.join(\"../cache\", \"sentiment_analysis\")  # where to store cache files\n",
    "os.makedirs(cache_dir, exist_ok=True)  # ensure cache directory exists\n",
    "\n",
    "def preprocess_data(data_train, data_test, labels_train, labels_test,\n",
    "                    cache_dir=cache_dir, cache_file=\"preprocessed_data.pkl\"):\n",
    "    \"\"\"Convert each review to words; read from cache if available.\"\"\"\n",
    "\n",
    "    # If cache_file is not None, try to read from it first\n",
    "    cache_data = None\n",
    "    if cache_file is not None:\n",
    "        try:\n",
    "            with open(os.path.join(cache_dir, cache_file), \"rb\") as f:\n",
    "                cache_data = pickle.load(f)\n",
    "            print(\"Read preprocessed data from cache file:\", cache_file)\n",
    "        except:\n",
    "            pass  # unable to read from cache, but that's okay\n",
    "    \n",
    "    # If cache is missing, then do the heavy lifting\n",
    "    if cache_data is None:\n",
    "        # Preprocess training and test data to obtain words for each review\n",
    "        #words_train = list(map(review_to_words, data_train))\n",
    "        #words_test = list(map(review_to_words, data_test))\n",
    "        words_train = [review_to_words(review) for review in data_train]\n",
    "        words_test = [review_to_words(review) for review in data_test]\n",
    "        \n",
    "        # Write to cache file for future runs\n",
    "        if cache_file is not None:\n",
    "            cache_data = dict(words_train=words_train, words_test=words_test,\n",
    "                              labels_train=labels_train, labels_test=labels_test)\n",
    "            with open(os.path.join(cache_dir, cache_file), \"wb\") as f:\n",
    "                pickle.dump(cache_data, f)\n",
    "            print(\"Wrote preprocessed data to cache file:\", cache_file)\n",
    "    else:\n",
    "        # Unpack data loaded from cache file\n",
    "        words_train, words_test, labels_train, labels_test = (cache_data['words_train'],\n",
    "                cache_data['words_test'], cache_data['labels_train'], cache_data['labels_test'])\n",
    "    \n",
    "    return words_train, words_test, labels_train, labels_test"
   ]
  },
  {
   "cell_type": "code",
   "execution_count": 10,
   "metadata": {},
   "outputs": [
    {
     "name": "stdout",
     "output_type": "stream",
     "text": [
      "Read preprocessed data from cache file: preprocessed_data.pkl\n"
     ]
    }
   ],
   "source": [
    "# Preprocess data\n",
    "train_X, test_X, train_y, test_y = preprocess_data(train_X, test_X, train_y, test_y)"
   ]
  },
  {
   "cell_type": "markdown",
   "metadata": {},
   "source": [
    "### Extract Bag-of-Words features\n",
    "\n",
    "For the model we will be implementing, rather than using the reviews directly, we are going to transform each review into a Bag-of-Words feature representation. Keep in mind that 'in the wild' we will only have access to the training set so our transformer can only use the training set to construct a representation."
   ]
  },
  {
   "cell_type": "code",
   "execution_count": 11,
   "metadata": {},
   "outputs": [],
   "source": [
    "import numpy as np\n",
    "from sklearn.feature_extraction.text import CountVectorizer\n",
    "from sklearn.externals import joblib\n",
    "# joblib is an enhanced version of pickle that is more efficient for storing NumPy arrays\n",
    "\n",
    "def extract_BoW_features(words_train, words_test, vocabulary_size=5000,\n",
    "                         cache_dir=cache_dir, cache_file=\"bow_features.pkl\"):\n",
    "    \"\"\"Extract Bag-of-Words for a given set of documents, already preprocessed into words.\"\"\"\n",
    "    \n",
    "    # If cache_file is not None, try to read from it first\n",
    "    cache_data = None\n",
    "    if cache_file is not None:\n",
    "        try:\n",
    "            with open(os.path.join(cache_dir, cache_file), \"rb\") as f:\n",
    "                cache_data = joblib.load(f)\n",
    "            print(\"Read features from cache file:\", cache_file)\n",
    "        except:\n",
    "            pass  # unable to read from cache, but that's okay\n",
    "    \n",
    "    # If cache is missing, then do the heavy lifting\n",
    "    if cache_data is None:\n",
    "        # Fit a vectorizer to training documents and use it to transform them\n",
    "        # NOTE: Training documents have already been preprocessed and tokenized into words;\n",
    "        #       pass in dummy functions to skip those steps, e.g. preprocessor=lambda x: x\n",
    "        vectorizer = CountVectorizer(max_features=vocabulary_size,\n",
    "                preprocessor=lambda x: x, tokenizer=lambda x: x)  # already preprocessed\n",
    "        features_train = vectorizer.fit_transform(words_train).toarray()\n",
    "\n",
    "        # Apply the same vectorizer to transform the test documents (ignore unknown words)\n",
    "        features_test = vectorizer.transform(words_test).toarray()\n",
    "        \n",
    "        # NOTE: Remember to convert the features using .toarray() for a compact representation\n",
    "        \n",
    "        # Write to cache file for future runs (store vocabulary as well)\n",
    "        if cache_file is not None:\n",
    "            vocabulary = vectorizer.vocabulary_\n",
    "            cache_data = dict(features_train=features_train, features_test=features_test,\n",
    "                             vocabulary=vocabulary)\n",
    "            with open(os.path.join(cache_dir, cache_file), \"wb\") as f:\n",
    "                joblib.dump(cache_data, f)\n",
    "            print(\"Wrote features to cache file:\", cache_file)\n",
    "    else:\n",
    "        # Unpack data loaded from cache file\n",
    "        features_train, features_test, vocabulary = (cache_data['features_train'],\n",
    "                cache_data['features_test'], cache_data['vocabulary'])\n",
    "    \n",
    "    # Return both the extracted features as well as the vocabulary\n",
    "    return features_train, features_test, vocabulary"
   ]
  },
  {
   "cell_type": "code",
   "execution_count": 12,
   "metadata": {},
   "outputs": [
    {
     "name": "stdout",
     "output_type": "stream",
     "text": [
      "Wrote features to cache file: bow_features.pkl\n"
     ]
    }
   ],
   "source": [
    "# Extract Bag of Words features for both training and test datasets\n",
    "train_X, test_X, vocabulary = extract_BoW_features(train_X, test_X)"
   ]
  },
  {
   "cell_type": "markdown",
   "metadata": {},
   "source": [
    "## Step 4: Classification using XGBoost\n",
    "\n",
    "Now that we have created the feature representation of our training (and testing) data, it is time to start setting up and using the XGBoost classifier provided by SageMaker.\n",
    "\n",
    "### Writing the dataset\n",
    "\n",
    "The XGBoost classifier that we will be using requires the dataset to be written to a file and stored using Amazon S3. To do this, we will start by splitting the training dataset into two parts, the data we will train the model with and a validation set. Then, we will write those datasets to a file and upload the files to S3. In addition, we will write the test set input to a file and upload the file to S3. This is so that we can use SageMakers Batch Transform functionality to test our model once we've fit it."
   ]
  },
  {
   "cell_type": "code",
   "execution_count": 13,
   "metadata": {},
   "outputs": [],
   "source": [
    "import pandas as pd\n",
    "\n",
    "val_X = pd.DataFrame(train_X[:10000])\n",
    "train_X = pd.DataFrame(train_X[10000:])\n",
    "\n",
    "val_y = pd.DataFrame(train_y[:10000])\n",
    "train_y = pd.DataFrame(train_y[10000:])\n",
    "\n",
    "test_y = pd.DataFrame(test_y)\n",
    "test_X = pd.DataFrame(test_X)"
   ]
  },
  {
   "cell_type": "markdown",
   "metadata": {},
   "source": [
    "The documentation for the XGBoost algorithm in SageMaker requires that the saved datasets should contain no headers or index and that for the training and validation data, the label should occur first for each sample.\n",
    "\n",
    "For more information about this and other algorithms, the SageMaker developer documentation can be found on __[Amazon's website.](https://docs.aws.amazon.com/sagemaker/latest/dg/)__"
   ]
  },
  {
   "cell_type": "code",
   "execution_count": 14,
   "metadata": {},
   "outputs": [],
   "source": [
    "# First we make sure that the local directory in which we'd like to store the training and validation csv files exists.\n",
    "data_dir = '../data/xgboost'\n",
    "if not os.path.exists(data_dir):\n",
    "    os.makedirs(data_dir)"
   ]
  },
  {
   "cell_type": "code",
   "execution_count": 15,
   "metadata": {},
   "outputs": [],
   "source": [
    "# First, save the test data to test.csv in the data_dir directory. Note that we do not save the associated ground truth\n",
    "# labels, instead we will use them later to compare with our model output.\n",
    "\n",
    "# Solution:\n",
    "# The test data shouldn't contain the ground truth labels as they are what the model is\n",
    "# trying to predict. We will end up using them afterward to compare the predictions to.\n",
    "# pd.concat([test_y, test_X], axis=1).to_csv(os.path.join(data_dir, 'test.csv'), header=False, index=False)\n",
    "pd.DataFrame(test_X).to_csv(os.path.join(data_dir, 'test.csv'), header=False, index=False)\n",
    "\n",
    "pd.concat([val_y, val_X], axis=1).to_csv(os.path.join(data_dir, 'validation.csv'), header=False, index=False)\n",
    "pd.concat([train_y, train_X], axis=1).to_csv(os.path.join(data_dir, 'train.csv'), header=False, index=False)"
   ]
  },
  {
   "cell_type": "code",
   "execution_count": 16,
   "metadata": {},
   "outputs": [],
   "source": [
    "# To save a bit of memory we can set text_X, train_X, val_X, train_y and val_y to None.\n",
    "\n",
    "train_X = val_X = train_y = val_y = None"
   ]
  },
  {
   "cell_type": "markdown",
   "metadata": {},
   "source": [
    "### Uploading Training / Validation files to S3\n",
    "\n",
    "Amazon's S3 service allows us to store files that can be access by both the built-in training models such as the XGBoost model we will be using as well as custom models such as the one we will see a little later.\n",
    "\n",
    "For this, and most other tasks we will be doing using SageMaker, there are two methods we could use. The first is to use the low level functionality of SageMaker which requires knowing each of the objects involved in the SageMaker environment. The second is to use the high level functionality in which certain choices have been made on the user's behalf. The low level approach benefits from allowing the user a great deal of flexibility while the high level approach makes development much quicker. For our purposes we will opt to use the high level approach although using the low-level approach is certainly an option.\n",
    "\n",
    "Recall the method `upload_data()` which is a member of object representing our current SageMaker session. What this method does is upload the data to the default bucket (which is created if it does not exist) into the path described by the key_prefix variable. To see this for yourself, once you have uploaded the data files, go to the S3 console and look to see where the files have been uploaded.\n",
    "\n",
    "For additional resources, see the __[SageMaker API documentation](http://sagemaker.readthedocs.io/en/latest/)__ and in addition the __[SageMaker Developer Guide.](https://docs.aws.amazon.com/sagemaker/latest/dg/)__"
   ]
  },
  {
   "cell_type": "code",
   "execution_count": 17,
   "metadata": {},
   "outputs": [],
   "source": [
    "import sagemaker\n",
    "\n",
    "session = sagemaker.Session() # Store the current SageMaker session\n",
    "\n",
    "# S3 prefix (which folder will we use)\n",
    "prefix = 'sentiment-xgboost'\n",
    "\n",
    "test_location = session.upload_data(os.path.join(data_dir, 'test.csv'), key_prefix=prefix)\n",
    "val_location = session.upload_data(os.path.join(data_dir, 'validation.csv'), key_prefix=prefix)\n",
    "train_location = session.upload_data(os.path.join(data_dir, 'train.csv'), key_prefix=prefix)"
   ]
  },
  {
   "cell_type": "markdown",
   "metadata": {},
   "source": [
    "### (TODO) Creating a tuned XGBoost model\n",
    "\n",
    "Now that the data has been uploaded it is time to create the XGBoost model. As in the Boston Housing notebook, the first step is to create an estimator object which will be used as the *base* of your hyperparameter tuning job."
   ]
  },
  {
   "cell_type": "code",
   "execution_count": 18,
   "metadata": {},
   "outputs": [],
   "source": [
    "from sagemaker import get_execution_role\n",
    "\n",
    "# Our current execution role is require when creating the model as the training\n",
    "# and inference code will need to access the model artifacts.\n",
    "role = get_execution_role()"
   ]
  },
  {
   "cell_type": "code",
   "execution_count": 19,
   "metadata": {},
   "outputs": [],
   "source": [
    "# We need to retrieve the location of the container which is provided by Amazon for using XGBoost.\n",
    "# As a matter of convenience, the training and inference code both use the same container.\n",
    "from sagemaker.amazon.amazon_estimator import get_image_uri\n",
    "\n",
    "container = get_image_uri(session.boto_region_name, 'xgboost')"
   ]
  },
  {
   "cell_type": "code",
   "execution_count": 20,
   "metadata": {},
   "outputs": [],
   "source": [
    "# TODO: Create a SageMaker estimator using the container location determined in the previous cell.\n",
    "#       It is recommended that you use a single training instance of type ml.m4.xlarge. It is also\n",
    "#       recommended that you use 's3://{}/{}/output'.format(session.default_bucket(), prefix) as the\n",
    "#       output path.\n",
    "\n",
    "xgb = None\n",
    "\n",
    "# Solution:\n",
    "xgb = sagemaker.estimator.Estimator(container, # The location of the container we wish to use\n",
    "                                    role,                                    # What is our current IAM Role\n",
    "                                    train_instance_count=1,                  # How many compute instances\n",
    "                                    train_instance_type='ml.m4.xlarge',      # What kind of compute instances\n",
    "                                    output_path='s3://{}/{}/output'.format(session.default_bucket(), prefix),\n",
    "                                    sagemaker_session=session)\n",
    "\n",
    "# TODO: Set the XGBoost hyperparameters in the xgb object. Don't forget that in this case we have a binary\n",
    "#       label so we should be using the 'binary:logistic' objective.\n",
    "\n",
    "# Solution:\n",
    "xgb.set_hyperparameters(max_depth=5,\n",
    "                        eta=0.2,\n",
    "                        gamma=4,\n",
    "                        min_child_weight=6,\n",
    "                        subsample=0.8,\n",
    "                        silent=0,\n",
    "                        objective='binary:logistic',\n",
    "                        early_stopping_rounds=10,\n",
    "                        num_round=500)"
   ]
  },
  {
   "cell_type": "markdown",
   "metadata": {},
   "source": [
    "### (TODO) Create the hyperparameter tuner\n",
    "\n",
    "Now that the base estimator has been set up we need to construct a hyperparameter tuner object which we will use to request SageMaker construct a hyperparameter tuning job.\n",
    "\n",
    "**Note:** Training a single sentiment analysis XGBoost model takes longer than training a Boston Housing XGBoost model so if you don't want the hyperparameter tuning job to take too long, make sure to not set the total number of models (jobs) too high."
   ]
  },
  {
   "cell_type": "code",
   "execution_count": 21,
   "metadata": {},
   "outputs": [],
   "source": [
    "# First, make sure to import the relevant objects used to construct the tuner\n",
    "from sagemaker.tuner import IntegerParameter, ContinuousParameter, HyperparameterTuner\n",
    "\n",
    "# TODO: Create the hyperparameter tuner object\n",
    "\n",
    "xgb_hyperparameter_tuner = None\n",
    "\n",
    "# Solution:\n",
    "\n",
    "xgb_hyperparameter_tuner = HyperparameterTuner(estimator = xgb, # The estimator object to use as the basis for the training jobs.\n",
    "                                               objective_metric_name = 'validation:rmse', # The metric used to compare trained models.\n",
    "                                               objective_type = 'Minimize', # Whether we wish to minimize or maximize the metric.\n",
    "                                               max_jobs = 6, # The total number of models to train\n",
    "                                               max_parallel_jobs = 3, # The number of models to train in parallel\n",
    "                                               hyperparameter_ranges = {\n",
    "                                                    'max_depth': IntegerParameter(3, 12),\n",
    "                                                    'eta'      : ContinuousParameter(0.05, 0.5),\n",
    "                                                    'min_child_weight': IntegerParameter(2, 8),\n",
    "                                                    'subsample': ContinuousParameter(0.5, 0.9),\n",
    "                                                    'gamma': ContinuousParameter(0, 10),\n",
    "                                               })"
   ]
  },
  {
   "cell_type": "markdown",
   "metadata": {},
   "source": [
    "### Fit the hyperparameter tuner\n",
    "\n",
    "Now that the hyperparameter tuner object has been constructed, it is time to fit the various models and find the best performing model."
   ]
  },
  {
   "cell_type": "code",
   "execution_count": 22,
   "metadata": {},
   "outputs": [],
   "source": [
    "s3_input_train = sagemaker.s3_input(s3_data=train_location, content_type='csv')\n",
    "s3_input_validation = sagemaker.s3_input(s3_data=val_location, content_type='csv')"
   ]
  },
  {
   "cell_type": "code",
   "execution_count": 23,
   "metadata": {},
   "outputs": [],
   "source": [
    "xgb_hyperparameter_tuner.fit({'train': s3_input_train, 'validation': s3_input_validation})"
   ]
  },
  {
   "cell_type": "markdown",
   "metadata": {},
   "source": [
    "Remember that the tuning job is constructed and run in the background so if we want to see the progress of our training job we need to call the `wait()` method."
   ]
  },
  {
   "cell_type": "code",
   "execution_count": 24,
   "metadata": {},
   "outputs": [
    {
     "name": "stdout",
     "output_type": "stream",
     "text": [
      ".........................................................................................................................................................................................................................................................................................................................................................!\n"
     ]
    }
   ],
   "source": [
    "xgb_hyperparameter_tuner.wait()"
   ]
  },
  {
   "cell_type": "markdown",
   "metadata": {},
   "source": [
    "### (TODO) Testing the model\n",
    "\n",
    "Now that we've run our hyperparameter tuning job, it's time to see how well the best performing model actually performs. To do this we will use SageMaker's Batch Transform functionality. Batch Transform is a convenient way to perform inference on a large dataset in a way that is not realtime. That is, we don't necessarily need to use our model's results immediately and instead we can peform inference on a large number of samples. An example of this in industry might be peforming an end of month report. This method of inference can also be useful to us as it means to can perform inference on our entire test set. \n",
    "\n",
    "Remember that in order to create a transformer object to perform the batch transform job, we need a trained estimator object. We can do that using the `attach()` method, creating an estimator object which is attached to the best trained job."
   ]
  },
  {
   "cell_type": "code",
   "execution_count": 25,
   "metadata": {},
   "outputs": [
    {
     "name": "stdout",
     "output_type": "stream",
     "text": [
      "2019-07-09 22:46:53 Starting - Preparing the instances for training\n",
      "2019-07-09 22:46:53 Downloading - Downloading input data\n",
      "2019-07-09 22:46:53 Training - Training image download completed. Training in progress.\n",
      "2019-07-09 22:46:53 Uploading - Uploading generated training model\n",
      "2019-07-09 22:46:53 Completed - Training job completed\u001b[31mArguments: train\u001b[0m\n",
      "\u001b[31m[2019-07-09:22:36:36:INFO] Running standalone xgboost training.\u001b[0m\n",
      "\u001b[31m[2019-07-09:22:36:36:INFO] Setting up HPO optimized metric to be : rmse\u001b[0m\n",
      "\u001b[31m[2019-07-09:22:36:36:INFO] File size need to be processed in the node: 238.47mb. Available memory size in the node: 8445.2mb\u001b[0m\n",
      "\u001b[31m[2019-07-09:22:36:36:INFO] Determined delimiter of CSV input is ','\u001b[0m\n",
      "\u001b[31m[22:36:36] S3DistributionType set as FullyReplicated\u001b[0m\n",
      "\u001b[31m[22:36:38] 15000x5000 matrix with 75000000 entries loaded from /opt/ml/input/data/train?format=csv&label_column=0&delimiter=,\u001b[0m\n",
      "\u001b[31m[2019-07-09:22:36:38:INFO] Determined delimiter of CSV input is ','\u001b[0m\n",
      "\u001b[31m[22:36:38] S3DistributionType set as FullyReplicated\u001b[0m\n",
      "\u001b[31m[22:36:39] 10000x5000 matrix with 50000000 entries loaded from /opt/ml/input/data/validation?format=csv&label_column=0&delimiter=,\u001b[0m\n",
      "\u001b[31m[22:36:44] src/tree/updater_prune.cc:74: tree pruning end, 1 roots, 104 extra nodes, 66 pruned nodes, max_depth=10\u001b[0m\n",
      "\u001b[31m[0]#011train-rmse:0.454198#011validation-rmse:0.458967\u001b[0m\n",
      "\u001b[31mMultiple eval metrics have been passed: 'validation-rmse' will be used for early stopping.\n",
      "\u001b[0m\n",
      "\u001b[31mWill train until validation-rmse hasn't improved in 10 rounds.\u001b[0m\n",
      "\u001b[31m[22:36:47] src/tree/updater_prune.cc:74: tree pruning end, 1 roots, 112 extra nodes, 90 pruned nodes, max_depth=10\u001b[0m\n",
      "\u001b[31m[1]#011train-rmse:0.428239#011validation-rmse:0.436149\u001b[0m\n",
      "\u001b[31m[22:36:50] src/tree/updater_prune.cc:74: tree pruning end, 1 roots, 64 extra nodes, 68 pruned nodes, max_depth=10\u001b[0m\n",
      "\u001b[31m[2]#011train-rmse:0.411639#011validation-rmse:0.421366\u001b[0m\n",
      "\u001b[31m[22:36:52] src/tree/updater_prune.cc:74: tree pruning end, 1 roots, 84 extra nodes, 80 pruned nodes, max_depth=10\u001b[0m\n",
      "\u001b[31m[3]#011train-rmse:0.398364#011validation-rmse:0.410606\u001b[0m\n",
      "\u001b[31m[22:36:55] src/tree/updater_prune.cc:74: tree pruning end, 1 roots, 54 extra nodes, 70 pruned nodes, max_depth=10\u001b[0m\n",
      "\u001b[31m[4]#011train-rmse:0.388268#011validation-rmse:0.402851\u001b[0m\n",
      "\u001b[31m[22:36:57] src/tree/updater_prune.cc:74: tree pruning end, 1 roots, 46 extra nodes, 74 pruned nodes, max_depth=10\u001b[0m\n",
      "\u001b[31m[5]#011train-rmse:0.380218#011validation-rmse:0.396188\u001b[0m\n",
      "\u001b[31m[22:37:00] src/tree/updater_prune.cc:74: tree pruning end, 1 roots, 48 extra nodes, 82 pruned nodes, max_depth=10\u001b[0m\n",
      "\u001b[31m[6]#011train-rmse:0.372806#011validation-rmse:0.390445\u001b[0m\n",
      "\u001b[31m[22:37:03] src/tree/updater_prune.cc:74: tree pruning end, 1 roots, 48 extra nodes, 66 pruned nodes, max_depth=10\u001b[0m\n",
      "\u001b[31m[7]#011train-rmse:0.365424#011validation-rmse:0.385095\u001b[0m\n",
      "\u001b[31m[22:37:05] src/tree/updater_prune.cc:74: tree pruning end, 1 roots, 68 extra nodes, 76 pruned nodes, max_depth=10\u001b[0m\n",
      "\u001b[31m[8]#011train-rmse:0.358151#011validation-rmse:0.380788\u001b[0m\n",
      "\u001b[31m[22:37:08] src/tree/updater_prune.cc:74: tree pruning end, 1 roots, 40 extra nodes, 104 pruned nodes, max_depth=10\u001b[0m\n",
      "\u001b[31m[9]#011train-rmse:0.353028#011validation-rmse:0.376145\u001b[0m\n",
      "\u001b[31m[22:37:11] src/tree/updater_prune.cc:74: tree pruning end, 1 roots, 32 extra nodes, 60 pruned nodes, max_depth=10\u001b[0m\n",
      "\u001b[31m[10]#011train-rmse:0.348633#011validation-rmse:0.372802\u001b[0m\n",
      "\u001b[31m[22:37:13] src/tree/updater_prune.cc:74: tree pruning end, 1 roots, 42 extra nodes, 64 pruned nodes, max_depth=10\u001b[0m\n",
      "\u001b[31m[11]#011train-rmse:0.344053#011validation-rmse:0.369278\u001b[0m\n",
      "\u001b[31m[22:37:16] src/tree/updater_prune.cc:74: tree pruning end, 1 roots, 42 extra nodes, 78 pruned nodes, max_depth=10\u001b[0m\n",
      "\u001b[31m[12]#011train-rmse:0.340206#011validation-rmse:0.366822\u001b[0m\n",
      "\u001b[31m[22:37:18] src/tree/updater_prune.cc:74: tree pruning end, 1 roots, 58 extra nodes, 114 pruned nodes, max_depth=10\u001b[0m\n",
      "\u001b[31m[13]#011train-rmse:0.335314#011validation-rmse:0.363911\u001b[0m\n",
      "\u001b[31m[22:37:21] src/tree/updater_prune.cc:74: tree pruning end, 1 roots, 34 extra nodes, 90 pruned nodes, max_depth=10\u001b[0m\n",
      "\u001b[31m[14]#011train-rmse:0.331831#011validation-rmse:0.361416\u001b[0m\n",
      "\u001b[31m[22:37:23] src/tree/updater_prune.cc:74: tree pruning end, 1 roots, 42 extra nodes, 26 pruned nodes, max_depth=10\u001b[0m\n",
      "\u001b[31m[15]#011train-rmse:0.328065#011validation-rmse:0.358772\u001b[0m\n",
      "\u001b[31m[22:37:26] src/tree/updater_prune.cc:74: tree pruning end, 1 roots, 48 extra nodes, 64 pruned nodes, max_depth=10\u001b[0m\n",
      "\u001b[31m[16]#011train-rmse:0.324406#011validation-rmse:0.356843\u001b[0m\n",
      "\u001b[31m[22:37:29] src/tree/updater_prune.cc:74: tree pruning end, 1 roots, 40 extra nodes, 66 pruned nodes, max_depth=10\u001b[0m\n",
      "\u001b[31m[17]#011train-rmse:0.320964#011validation-rmse:0.354284\u001b[0m\n",
      "\u001b[31m[22:37:31] src/tree/updater_prune.cc:74: tree pruning end, 1 roots, 26 extra nodes, 42 pruned nodes, max_depth=10\u001b[0m\n",
      "\u001b[31m[18]#011train-rmse:0.318313#011validation-rmse:0.351877\u001b[0m\n",
      "\u001b[31m[22:37:34] src/tree/updater_prune.cc:74: tree pruning end, 1 roots, 24 extra nodes, 60 pruned nodes, max_depth=10\u001b[0m\n",
      "\u001b[31m[19]#011train-rmse:0.316215#011validation-rmse:0.350496\u001b[0m\n",
      "\u001b[31m[22:37:36] src/tree/updater_prune.cc:74: tree pruning end, 1 roots, 26 extra nodes, 54 pruned nodes, max_depth=10\u001b[0m\n",
      "\u001b[31m[20]#011train-rmse:0.314186#011validation-rmse:0.349284\u001b[0m\n",
      "\u001b[31m[22:37:39] src/tree/updater_prune.cc:74: tree pruning end, 1 roots, 48 extra nodes, 88 pruned nodes, max_depth=10\u001b[0m\n",
      "\u001b[31m[21]#011train-rmse:0.31054#011validation-rmse:0.347256\u001b[0m\n",
      "\u001b[31m[22:37:42] src/tree/updater_prune.cc:74: tree pruning end, 1 roots, 28 extra nodes, 58 pruned nodes, max_depth=10\u001b[0m\n",
      "\u001b[31m[22]#011train-rmse:0.308258#011validation-rmse:0.345882\u001b[0m\n",
      "\u001b[31m[22:37:44] src/tree/updater_prune.cc:74: tree pruning end, 1 roots, 28 extra nodes, 54 pruned nodes, max_depth=10\u001b[0m\n",
      "\u001b[31m[23]#011train-rmse:0.306033#011validation-rmse:0.344859\u001b[0m\n",
      "\u001b[31m[22:37:47] src/tree/updater_prune.cc:74: tree pruning end, 1 roots, 24 extra nodes, 30 pruned nodes, max_depth=10\u001b[0m\n",
      "\u001b[31m[24]#011train-rmse:0.304082#011validation-rmse:0.343536\u001b[0m\n",
      "\u001b[31m[22:37:49] src/tree/updater_prune.cc:74: tree pruning end, 1 roots, 32 extra nodes, 48 pruned nodes, max_depth=10\u001b[0m\n",
      "\u001b[31m[25]#011train-rmse:0.301938#011validation-rmse:0.34249\u001b[0m\n",
      "\u001b[31m[22:37:52] src/tree/updater_prune.cc:74: tree pruning end, 1 roots, 24 extra nodes, 54 pruned nodes, max_depth=10\u001b[0m\n",
      "\u001b[31m[26]#011train-rmse:0.300339#011validation-rmse:0.341454\u001b[0m\n",
      "\u001b[31m[22:37:55] src/tree/updater_prune.cc:74: tree pruning end, 1 roots, 22 extra nodes, 44 pruned nodes, max_depth=10\u001b[0m\n",
      "\u001b[31m[27]#011train-rmse:0.298887#011validation-rmse:0.340385\u001b[0m\n",
      "\u001b[31m[22:37:57] src/tree/updater_prune.cc:74: tree pruning end, 1 roots, 26 extra nodes, 68 pruned nodes, max_depth=10\u001b[0m\n",
      "\u001b[31m[28]#011train-rmse:0.297202#011validation-rmse:0.339585\u001b[0m\n",
      "\u001b[31m[22:38:00] src/tree/updater_prune.cc:74: tree pruning end, 1 roots, 30 extra nodes, 32 pruned nodes, max_depth=10\u001b[0m\n",
      "\u001b[31m[29]#011train-rmse:0.295111#011validation-rmse:0.338701\u001b[0m\n",
      "\u001b[31m[22:38:02] src/tree/updater_prune.cc:74: tree pruning end, 1 roots, 24 extra nodes, 64 pruned nodes, max_depth=10\u001b[0m\n",
      "\u001b[31m[30]#011train-rmse:0.293492#011validation-rmse:0.337874\u001b[0m\n",
      "\u001b[31m[22:38:05] src/tree/updater_prune.cc:74: tree pruning end, 1 roots, 30 extra nodes, 58 pruned nodes, max_depth=10\u001b[0m\n",
      "\u001b[31m[31]#011train-rmse:0.291508#011validation-rmse:0.337095\u001b[0m\n",
      "\u001b[31m[22:38:08] src/tree/updater_prune.cc:74: tree pruning end, 1 roots, 22 extra nodes, 80 pruned nodes, max_depth=10\u001b[0m\n",
      "\u001b[31m[32]#011train-rmse:0.29008#011validation-rmse:0.335956\u001b[0m\n",
      "\u001b[31m[22:38:10] src/tree/updater_prune.cc:74: tree pruning end, 1 roots, 34 extra nodes, 28 pruned nodes, max_depth=10\u001b[0m\n",
      "\u001b[31m[33]#011train-rmse:0.288051#011validation-rmse:0.335296\u001b[0m\n",
      "\u001b[31m[22:38:13] src/tree/updater_prune.cc:74: tree pruning end, 1 roots, 22 extra nodes, 30 pruned nodes, max_depth=10\u001b[0m\n",
      "\u001b[31m[34]#011train-rmse:0.286726#011validation-rmse:0.334235\u001b[0m\n",
      "\u001b[31m[22:38:15] src/tree/updater_prune.cc:74: tree pruning end, 1 roots, 20 extra nodes, 24 pruned nodes, max_depth=10\u001b[0m\n",
      "\u001b[31m[35]#011train-rmse:0.285526#011validation-rmse:0.33372\u001b[0m\n",
      "\u001b[31m[22:38:18] src/tree/updater_prune.cc:74: tree pruning end, 1 roots, 30 extra nodes, 44 pruned nodes, max_depth=10\u001b[0m\n",
      "\u001b[31m[36]#011train-rmse:0.28367#011validation-rmse:0.332885\u001b[0m\n",
      "\u001b[31m[22:38:20] src/tree/updater_prune.cc:74: tree pruning end, 1 roots, 24 extra nodes, 46 pruned nodes, max_depth=10\u001b[0m\n",
      "\u001b[31m[37]#011train-rmse:0.282305#011validation-rmse:0.332249\u001b[0m\n",
      "\u001b[31m[22:38:23] src/tree/updater_prune.cc:74: tree pruning end, 1 roots, 22 extra nodes, 36 pruned nodes, max_depth=10\u001b[0m\n",
      "\u001b[31m[38]#011train-rmse:0.280877#011validation-rmse:0.331659\u001b[0m\n",
      "\u001b[31m[22:38:25] src/tree/updater_prune.cc:74: tree pruning end, 1 roots, 22 extra nodes, 72 pruned nodes, max_depth=10\u001b[0m\n",
      "\u001b[31m[39]#011train-rmse:0.279765#011validation-rmse:0.331052\u001b[0m\n",
      "\u001b[31m[22:38:28] src/tree/updater_prune.cc:74: tree pruning end, 1 roots, 24 extra nodes, 102 pruned nodes, max_depth=10\u001b[0m\n",
      "\u001b[31m[40]#011train-rmse:0.278683#011validation-rmse:0.330399\u001b[0m\n",
      "\u001b[31m[22:38:31] src/tree/updater_prune.cc:74: tree pruning end, 1 roots, 36 extra nodes, 70 pruned nodes, max_depth=10\u001b[0m\n",
      "\u001b[31m[41]#011train-rmse:0.276787#011validation-rmse:0.329973\u001b[0m\n",
      "\u001b[31m[22:38:33] src/tree/updater_prune.cc:74: tree pruning end, 1 roots, 20 extra nodes, 74 pruned nodes, max_depth=10\u001b[0m\n",
      "\u001b[31m[42]#011train-rmse:0.275861#011validation-rmse:0.328988\u001b[0m\n",
      "\u001b[31m[22:38:36] src/tree/updater_prune.cc:74: tree pruning end, 1 roots, 22 extra nodes, 36 pruned nodes, max_depth=10\u001b[0m\n",
      "\u001b[31m[43]#011train-rmse:0.274695#011validation-rmse:0.328494\u001b[0m\n",
      "\u001b[31m[22:38:38] src/tree/updater_prune.cc:74: tree pruning end, 1 roots, 22 extra nodes, 30 pruned nodes, max_depth=10\u001b[0m\n",
      "\u001b[31m[44]#011train-rmse:0.273499#011validation-rmse:0.328118\u001b[0m\n",
      "\u001b[31m[22:38:41] src/tree/updater_prune.cc:74: tree pruning end, 1 roots, 24 extra nodes, 68 pruned nodes, max_depth=10\u001b[0m\n",
      "\u001b[31m[45]#011train-rmse:0.272347#011validation-rmse:0.327736\u001b[0m\n",
      "\u001b[31m[22:38:44] src/tree/updater_prune.cc:74: tree pruning end, 1 roots, 22 extra nodes, 28 pruned nodes, max_depth=10\u001b[0m\n",
      "\u001b[31m[46]#011train-rmse:0.271232#011validation-rmse:0.326956\u001b[0m\n",
      "\u001b[31m[22:38:46] src/tree/updater_prune.cc:74: tree pruning end, 1 roots, 20 extra nodes, 28 pruned nodes, max_depth=10\u001b[0m\n",
      "\u001b[31m[47]#011train-rmse:0.270293#011validation-rmse:0.326377\u001b[0m\n",
      "\u001b[31m[22:38:49] src/tree/updater_prune.cc:74: tree pruning end, 1 roots, 22 extra nodes, 44 pruned nodes, max_depth=10\u001b[0m\n",
      "\u001b[31m[48]#011train-rmse:0.269234#011validation-rmse:0.325593\u001b[0m\n",
      "\u001b[31m[22:38:51] src/tree/updater_prune.cc:74: tree pruning end, 1 roots, 16 extra nodes, 14 pruned nodes, max_depth=8\u001b[0m\n",
      "\u001b[31m[49]#011train-rmse:0.268392#011validation-rmse:0.32535\u001b[0m\n",
      "\u001b[31m[22:38:54] src/tree/updater_prune.cc:74: tree pruning end, 1 roots, 22 extra nodes, 34 pruned nodes, max_depth=10\u001b[0m\n",
      "\u001b[31m[50]#011train-rmse:0.267501#011validation-rmse:0.324789\u001b[0m\n",
      "\u001b[31m[22:38:56] src/tree/updater_prune.cc:74: tree pruning end, 1 roots, 28 extra nodes, 38 pruned nodes, max_depth=10\u001b[0m\n",
      "\u001b[31m[51]#011train-rmse:0.266191#011validation-rmse:0.324404\u001b[0m\n",
      "\u001b[31m[22:38:59] src/tree/updater_prune.cc:74: tree pruning end, 1 roots, 18 extra nodes, 38 pruned nodes, max_depth=9\u001b[0m\n",
      "\u001b[31m[52]#011train-rmse:0.265437#011validation-rmse:0.324614\u001b[0m\n",
      "\u001b[31m[22:39:01] src/tree/updater_prune.cc:74: tree pruning end, 1 roots, 8 extra nodes, 30 pruned nodes, max_depth=4\u001b[0m\n",
      "\u001b[31m[53]#011train-rmse:0.265017#011validation-rmse:0.32448\u001b[0m\n",
      "\u001b[31m[22:39:04] src/tree/updater_prune.cc:74: tree pruning end, 1 roots, 16 extra nodes, 38 pruned nodes, max_depth=8\u001b[0m\n",
      "\u001b[31m[54]#011train-rmse:0.264287#011validation-rmse:0.324015\u001b[0m\n",
      "\u001b[31m[22:39:07] src/tree/updater_prune.cc:74: tree pruning end, 1 roots, 8 extra nodes, 60 pruned nodes, max_depth=4\u001b[0m\n",
      "\u001b[31m[55]#011train-rmse:0.263953#011validation-rmse:0.32367\u001b[0m\n",
      "\u001b[31m[22:39:09] src/tree/updater_prune.cc:74: tree pruning end, 1 roots, 16 extra nodes, 62 pruned nodes, max_depth=8\u001b[0m\n",
      "\u001b[31m[56]#011train-rmse:0.263249#011validation-rmse:0.323243\u001b[0m\n",
      "\u001b[31m[22:39:12] src/tree/updater_prune.cc:74: tree pruning end, 1 roots, 18 extra nodes, 74 pruned nodes, max_depth=9\u001b[0m\n",
      "\u001b[31m[57]#011train-rmse:0.262487#011validation-rmse:0.322712\u001b[0m\n",
      "\u001b[31m[22:39:15] src/tree/updater_prune.cc:74: tree pruning end, 1 roots, 20 extra nodes, 44 pruned nodes, max_depth=9\u001b[0m\n",
      "\u001b[31m[58]#011train-rmse:0.261673#011validation-rmse:0.322623\u001b[0m\n",
      "\u001b[31m[22:39:17] src/tree/updater_prune.cc:74: tree pruning end, 1 roots, 16 extra nodes, 30 pruned nodes, max_depth=8\u001b[0m\n",
      "\u001b[31m[59]#011train-rmse:0.261027#011validation-rmse:0.321966\u001b[0m\n",
      "\u001b[31m[22:39:20] src/tree/updater_prune.cc:74: tree pruning end, 1 roots, 16 extra nodes, 50 pruned nodes, max_depth=8\u001b[0m\n",
      "\u001b[31m[60]#011train-rmse:0.260469#011validation-rmse:0.321791\u001b[0m\n",
      "\u001b[31m[22:39:22] src/tree/updater_prune.cc:74: tree pruning end, 1 roots, 10 extra nodes, 60 pruned nodes, max_depth=5\u001b[0m\n",
      "\u001b[31m[61]#011train-rmse:0.260093#011validation-rmse:0.321422\u001b[0m\n",
      "\u001b[31m[22:39:25] src/tree/updater_prune.cc:74: tree pruning end, 1 roots, 18 extra nodes, 30 pruned nodes, max_depth=9\u001b[0m\n",
      "\u001b[31m[62]#011train-rmse:0.259311#011validation-rmse:0.321375\u001b[0m\n",
      "\u001b[31m[22:39:28] src/tree/updater_prune.cc:74: tree pruning end, 1 roots, 22 extra nodes, 46 pruned nodes, max_depth=10\u001b[0m\n",
      "\u001b[31m[63]#011train-rmse:0.258479#011validation-rmse:0.32096\u001b[0m\n",
      "\u001b[31m[22:39:30] src/tree/updater_prune.cc:74: tree pruning end, 1 roots, 4 extra nodes, 36 pruned nodes, max_depth=2\u001b[0m\n",
      "\u001b[31m[64]#011train-rmse:0.258379#011validation-rmse:0.320737\u001b[0m\n",
      "\u001b[31m[22:39:33] src/tree/updater_prune.cc:74: tree pruning end, 1 roots, 12 extra nodes, 84 pruned nodes, max_depth=6\u001b[0m\n",
      "\u001b[31m[65]#011train-rmse:0.25793#011validation-rmse:0.320864\u001b[0m\n",
      "\u001b[31m[22:39:35] src/tree/updater_prune.cc:74: tree pruning end, 1 roots, 18 extra nodes, 30 pruned nodes, max_depth=9\u001b[0m\n",
      "\u001b[31m[66]#011train-rmse:0.257225#011validation-rmse:0.320436\u001b[0m\n",
      "\u001b[31m[22:39:38] src/tree/updater_prune.cc:74: tree pruning end, 1 roots, 6 extra nodes, 40 pruned nodes, max_depth=3\u001b[0m\n",
      "\u001b[31m[67]#011train-rmse:0.256956#011validation-rmse:0.320184\u001b[0m\n",
      "\u001b[31m[22:39:41] src/tree/updater_prune.cc:74: tree pruning end, 1 roots, 20 extra nodes, 54 pruned nodes, max_depth=10\u001b[0m\n",
      "\u001b[31m[68]#011train-rmse:0.256147#011validation-rmse:0.319881\u001b[0m\n",
      "\u001b[31m[22:39:43] src/tree/updater_prune.cc:74: tree pruning end, 1 roots, 20 extra nodes, 32 pruned nodes, max_depth=10\u001b[0m\n",
      "\u001b[31m[69]#011train-rmse:0.255477#011validation-rmse:0.319519\u001b[0m\n",
      "\u001b[31m[22:39:46] src/tree/updater_prune.cc:74: tree pruning end, 1 roots, 20 extra nodes, 30 pruned nodes, max_depth=10\u001b[0m\n",
      "\u001b[31m[70]#011train-rmse:0.254759#011validation-rmse:0.319638\u001b[0m\n",
      "\u001b[31m[22:39:48] src/tree/updater_prune.cc:74: tree pruning end, 1 roots, 2 extra nodes, 42 pruned nodes, max_depth=1\u001b[0m\n",
      "\u001b[31m[71]#011train-rmse:0.254633#011validation-rmse:0.319632\u001b[0m\n",
      "\u001b[31m[22:39:51] src/tree/updater_prune.cc:74: tree pruning end, 1 roots, 10 extra nodes, 32 pruned nodes, max_depth=5\u001b[0m\n",
      "\u001b[31m[72]#011train-rmse:0.254205#011validation-rmse:0.319479\u001b[0m\n",
      "\u001b[31m[22:39:53] src/tree/updater_prune.cc:74: tree pruning end, 1 roots, 0 extra nodes, 60 pruned nodes, max_depth=0\u001b[0m\n",
      "\u001b[31m[73]#011train-rmse:0.254203#011validation-rmse:0.319477\u001b[0m\n",
      "\u001b[31m[22:39:56] src/tree/updater_prune.cc:74: tree pruning end, 1 roots, 20 extra nodes, 16 pruned nodes, max_depth=10\u001b[0m\n",
      "\u001b[31m[74]#011train-rmse:0.253567#011validation-rmse:0.319239\u001b[0m\n",
      "\u001b[31m[22:39:58] src/tree/updater_prune.cc:74: tree pruning end, 1 roots, 20 extra nodes, 20 pruned nodes, max_depth=10\u001b[0m\n",
      "\u001b[31m[75]#011train-rmse:0.252851#011validation-rmse:0.318982\u001b[0m\n",
      "\u001b[31m[22:40:01] src/tree/updater_prune.cc:74: tree pruning end, 1 roots, 20 extra nodes, 20 pruned nodes, max_depth=10\u001b[0m\n",
      "\u001b[31m[76]#011train-rmse:0.252134#011validation-rmse:0.318866\u001b[0m\n",
      "\u001b[31m[22:40:04] src/tree/updater_prune.cc:74: tree pruning end, 1 roots, 20 extra nodes, 22 pruned nodes, max_depth=10\u001b[0m\n",
      "\u001b[31m[77]#011train-rmse:0.251359#011validation-rmse:0.318502\u001b[0m\n",
      "\u001b[31m[22:40:06] src/tree/updater_prune.cc:74: tree pruning end, 1 roots, 10 extra nodes, 44 pruned nodes, max_depth=5\u001b[0m\n",
      "\u001b[31m[78]#011train-rmse:0.251032#011validation-rmse:0.318171\u001b[0m\n",
      "\u001b[31m[22:40:09] src/tree/updater_prune.cc:74: tree pruning end, 1 roots, 0 extra nodes, 50 pruned nodes, max_depth=0\u001b[0m\n",
      "\u001b[31m[79]#011train-rmse:0.251037#011validation-rmse:0.318174\u001b[0m\n",
      "\u001b[31m[22:40:11] src/tree/updater_prune.cc:74: tree pruning end, 1 roots, 0 extra nodes, 64 pruned nodes, max_depth=0\u001b[0m\n",
      "\u001b[31m[80]#011train-rmse:0.251053#011validation-rmse:0.318186\u001b[0m\n",
      "\u001b[31m[22:40:14] src/tree/updater_prune.cc:74: tree pruning end, 1 roots, 0 extra nodes, 34 pruned nodes, max_depth=0\u001b[0m\n",
      "\u001b[31m[81]#011train-rmse:0.251075#011validation-rmse:0.318202\u001b[0m\n",
      "\u001b[31m[22:40:16] src/tree/updater_prune.cc:74: tree pruning end, 1 roots, 0 extra nodes, 52 pruned nodes, max_depth=0\u001b[0m\n",
      "\u001b[31m[82]#011train-rmse:0.251081#011validation-rmse:0.318207\u001b[0m\n",
      "\u001b[31m[22:40:19] src/tree/updater_prune.cc:74: tree pruning end, 1 roots, 18 extra nodes, 30 pruned nodes, max_depth=6\u001b[0m\n",
      "\u001b[31m[83]#011train-rmse:0.250483#011validation-rmse:0.31799\u001b[0m\n",
      "\u001b[31m[22:40:22] src/tree/updater_prune.cc:74: tree pruning end, 1 roots, 18 extra nodes, 30 pruned nodes, max_depth=9\u001b[0m\n",
      "\u001b[31m[84]#011train-rmse:0.249848#011validation-rmse:0.31766\u001b[0m\n",
      "\u001b[31m[22:40:24] src/tree/updater_prune.cc:74: tree pruning end, 1 roots, 0 extra nodes, 54 pruned nodes, max_depth=0\u001b[0m\n",
      "\u001b[31m[85]#011train-rmse:0.249845#011validation-rmse:0.317658\u001b[0m\n",
      "\u001b[31m[22:40:27] src/tree/updater_prune.cc:74: tree pruning end, 1 roots, 0 extra nodes, 38 pruned nodes, max_depth=0\u001b[0m\n",
      "\u001b[31m[86]#011train-rmse:0.249831#011validation-rmse:0.317648\u001b[0m\n",
      "\u001b[31m[22:40:29] src/tree/updater_prune.cc:74: tree pruning end, 1 roots, 0 extra nodes, 46 pruned nodes, max_depth=0\u001b[0m\n",
      "\u001b[31m[87]#011train-rmse:0.249835#011validation-rmse:0.317651\u001b[0m\n",
      "\u001b[31m[22:40:32] src/tree/updater_prune.cc:74: tree pruning end, 1 roots, 0 extra nodes, 38 pruned nodes, max_depth=0\u001b[0m\n",
      "\u001b[31m[88]#011train-rmse:0.249843#011validation-rmse:0.317656\u001b[0m\n",
      "\u001b[31m[22:40:34] src/tree/updater_prune.cc:74: tree pruning end, 1 roots, 8 extra nodes, 78 pruned nodes, max_depth=4\u001b[0m\n",
      "\u001b[31m[89]#011train-rmse:0.249646#011validation-rmse:0.317762\u001b[0m\n",
      "\u001b[31m[22:40:37] src/tree/updater_prune.cc:74: tree pruning end, 1 roots, 8 extra nodes, 42 pruned nodes, max_depth=4\u001b[0m\n",
      "\u001b[31m[90]#011train-rmse:0.249366#011validation-rmse:0.317727\u001b[0m\n",
      "\u001b[31m[22:40:40] src/tree/updater_prune.cc:74: tree pruning end, 1 roots, 2 extra nodes, 36 pruned nodes, max_depth=1\u001b[0m\n",
      "\u001b[31m[91]#011train-rmse:0.249301#011validation-rmse:0.317739\u001b[0m\n",
      "\u001b[31m[22:40:42] src/tree/updater_prune.cc:74: tree pruning end, 1 roots, 0 extra nodes, 54 pruned nodes, max_depth=0\u001b[0m\n",
      "\u001b[31m[92]#011train-rmse:0.2493#011validation-rmse:0.317739\u001b[0m\n",
      "\u001b[31m[22:40:45] src/tree/updater_prune.cc:74: tree pruning end, 1 roots, 0 extra nodes, 76 pruned nodes, max_depth=0\u001b[0m\n",
      "\u001b[31m[93]#011train-rmse:0.24932#011validation-rmse:0.317753\u001b[0m\n",
      "\u001b[31m[22:40:47] src/tree/updater_prune.cc:74: tree pruning end, 1 roots, 10 extra nodes, 78 pruned nodes, max_depth=4\u001b[0m\n",
      "\u001b[31m[94]#011train-rmse:0.248942#011validation-rmse:0.317616\u001b[0m\n",
      "\u001b[31m[22:40:50] src/tree/updater_prune.cc:74: tree pruning end, 1 roots, 0 extra nodes, 72 pruned nodes, max_depth=0\u001b[0m\n",
      "\u001b[31m[95]#011train-rmse:0.248952#011validation-rmse:0.317623\u001b[0m\n",
      "\u001b[31m[22:40:52] src/tree/updater_prune.cc:74: tree pruning end, 1 roots, 4 extra nodes, 84 pruned nodes, max_depth=2\u001b[0m\n",
      "\u001b[31m[96]#011train-rmse:0.248839#011validation-rmse:0.317629\u001b[0m\n",
      "\u001b[31m[22:40:55] src/tree/updater_prune.cc:74: tree pruning end, 1 roots, 0 extra nodes, 36 pruned nodes, max_depth=0\u001b[0m\n",
      "\u001b[31m[97]#011train-rmse:0.248848#011validation-rmse:0.317636\u001b[0m\n",
      "\u001b[31m[22:40:57] src/tree/updater_prune.cc:74: tree pruning end, 1 roots, 0 extra nodes, 34 pruned nodes, max_depth=0\u001b[0m\n",
      "\u001b[31m[98]#011train-rmse:0.248848#011validation-rmse:0.317636\u001b[0m\n",
      "\u001b[31m[22:41:00] src/tree/updater_prune.cc:74: tree pruning end, 1 roots, 2 extra nodes, 42 pruned nodes, max_depth=1\u001b[0m\n",
      "\u001b[31m[99]#011train-rmse:0.248733#011validation-rmse:0.317598\u001b[0m\n",
      "\u001b[31m[22:41:03] src/tree/updater_prune.cc:74: tree pruning end, 1 roots, 0 extra nodes, 34 pruned nodes, max_depth=0\u001b[0m\n",
      "\u001b[31m[100]#011train-rmse:0.248728#011validation-rmse:0.317595\u001b[0m\n",
      "\u001b[31m[22:41:05] src/tree/updater_prune.cc:74: tree pruning end, 1 roots, 0 extra nodes, 40 pruned nodes, max_depth=0\u001b[0m\n",
      "\u001b[31m[101]#011train-rmse:0.248733#011validation-rmse:0.317598\u001b[0m\n",
      "\u001b[31m[22:41:08] src/tree/updater_prune.cc:74: tree pruning end, 1 roots, 20 extra nodes, 26 pruned nodes, max_depth=10\u001b[0m\n",
      "\u001b[31m[102]#011train-rmse:0.247936#011validation-rmse:0.317382\u001b[0m\n",
      "\u001b[31m[22:41:10] src/tree/updater_prune.cc:74: tree pruning end, 1 roots, 10 extra nodes, 50 pruned nodes, max_depth=5\u001b[0m\n",
      "\u001b[31m[103]#011train-rmse:0.247656#011validation-rmse:0.317281\u001b[0m\n",
      "\u001b[31m[22:41:13] src/tree/updater_prune.cc:74: tree pruning end, 1 roots, 12 extra nodes, 40 pruned nodes, max_depth=5\u001b[0m\n",
      "\u001b[31m[104]#011train-rmse:0.247204#011validation-rmse:0.317119\u001b[0m\n",
      "\u001b[31m[22:41:15] src/tree/updater_prune.cc:74: tree pruning end, 1 roots, 4 extra nodes, 30 pruned nodes, max_depth=2\u001b[0m\n",
      "\u001b[31m[105]#011train-rmse:0.247037#011validation-rmse:0.31713\u001b[0m\n",
      "\u001b[31m[22:41:18] src/tree/updater_prune.cc:74: tree pruning end, 1 roots, 0 extra nodes, 40 pruned nodes, max_depth=0\u001b[0m\n",
      "\u001b[31m[106]#011train-rmse:0.247045#011validation-rmse:0.317135\u001b[0m\n",
      "\u001b[31m[22:41:21] src/tree/updater_prune.cc:74: tree pruning end, 1 roots, 0 extra nodes, 52 pruned nodes, max_depth=0\u001b[0m\n",
      "\u001b[31m[107]#011train-rmse:0.247046#011validation-rmse:0.317136\u001b[0m\n",
      "\u001b[31m[22:41:23] src/tree/updater_prune.cc:74: tree pruning end, 1 roots, 4 extra nodes, 60 pruned nodes, max_depth=2\u001b[0m\n",
      "\u001b[31m[108]#011train-rmse:0.246907#011validation-rmse:0.31712\u001b[0m\n",
      "\u001b[31m[22:41:26] src/tree/updater_prune.cc:74: tree pruning end, 1 roots, 0 extra nodes, 38 pruned nodes, max_depth=0\u001b[0m\n",
      "\u001b[31m[109]#011train-rmse:0.246909#011validation-rmse:0.317121\u001b[0m\n",
      "\u001b[31m[22:41:28] src/tree/updater_prune.cc:74: tree pruning end, 1 roots, 2 extra nodes, 58 pruned nodes, max_depth=1\u001b[0m\n",
      "\u001b[31m[110]#011train-rmse:0.246802#011validation-rmse:0.317113\u001b[0m\n",
      "\u001b[31m[22:41:31] src/tree/updater_prune.cc:74: tree pruning end, 1 roots, 14 extra nodes, 44 pruned nodes, max_depth=7\u001b[0m\n",
      "\u001b[31m[111]#011train-rmse:0.246298#011validation-rmse:0.317153\u001b[0m\n",
      "\u001b[31m[22:41:33] src/tree/updater_prune.cc:74: tree pruning end, 1 roots, 0 extra nodes, 88 pruned nodes, max_depth=0\u001b[0m\n",
      "\u001b[31m[112]#011train-rmse:0.246309#011validation-rmse:0.317161\u001b[0m\n",
      "\u001b[31m[22:41:36] src/tree/updater_prune.cc:74: tree pruning end, 1 roots, 8 extra nodes, 58 pruned nodes, max_depth=4\u001b[0m\n",
      "\u001b[31m[113]#011train-rmse:0.246022#011validation-rmse:0.317156\u001b[0m\n",
      "\u001b[31m[22:41:39] src/tree/updater_prune.cc:74: tree pruning end, 1 roots, 0 extra nodes, 56 pruned nodes, max_depth=0\u001b[0m\n",
      "\u001b[31m[114]#011train-rmse:0.246022#011validation-rmse:0.317156\u001b[0m\n",
      "\u001b[31m[22:41:41] src/tree/updater_prune.cc:74: tree pruning end, 1 roots, 0 extra nodes, 32 pruned nodes, max_depth=0\u001b[0m\n",
      "\u001b[31m[115]#011train-rmse:0.246012#011validation-rmse:0.317149\u001b[0m\n",
      "\u001b[31m[22:41:44] src/tree/updater_prune.cc:74: tree pruning end, 1 roots, 0 extra nodes, 66 pruned nodes, max_depth=0\u001b[0m\n",
      "\u001b[31m[116]#011train-rmse:0.24601#011validation-rmse:0.317148\u001b[0m\n",
      "\u001b[31m[22:41:46] src/tree/updater_prune.cc:74: tree pruning end, 1 roots, 0 extra nodes, 46 pruned nodes, max_depth=0\u001b[0m\n",
      "\u001b[31m[117]#011train-rmse:0.246032#011validation-rmse:0.317163\u001b[0m\n",
      "\u001b[31m[22:41:49] src/tree/updater_prune.cc:74: tree pruning end, 1 roots, 16 extra nodes, 36 pruned nodes, max_depth=8\u001b[0m\n",
      "\u001b[31m[118]#011train-rmse:0.245523#011validation-rmse:0.317006\u001b[0m\n",
      "\u001b[31m[22:41:51] src/tree/updater_prune.cc:74: tree pruning end, 1 roots, 4 extra nodes, 40 pruned nodes, max_depth=2\u001b[0m\n",
      "\u001b[31m[119]#011train-rmse:0.245371#011validation-rmse:0.316977\u001b[0m\n",
      "\u001b[31m[22:41:54] src/tree/updater_prune.cc:74: tree pruning end, 1 roots, 0 extra nodes, 60 pruned nodes, max_depth=0\u001b[0m\n",
      "\u001b[31m[120]#011train-rmse:0.245352#011validation-rmse:0.316962\u001b[0m\n",
      "\u001b[31m[22:41:57] src/tree/updater_prune.cc:74: tree pruning end, 1 roots, 0 extra nodes, 70 pruned nodes, max_depth=0\u001b[0m\n",
      "\u001b[31m[121]#011train-rmse:0.245364#011validation-rmse:0.316971\u001b[0m\n",
      "\u001b[31m[22:41:59] src/tree/updater_prune.cc:74: tree pruning end, 1 roots, 0 extra nodes, 34 pruned nodes, max_depth=0\u001b[0m\n",
      "\u001b[31m[122]#011train-rmse:0.245343#011validation-rmse:0.316955\u001b[0m\n",
      "\u001b[31m[22:42:02] src/tree/updater_prune.cc:74: tree pruning end, 1 roots, 18 extra nodes, 46 pruned nodes, max_depth=9\u001b[0m\n",
      "\u001b[31m[123]#011train-rmse:0.244796#011validation-rmse:0.316923\u001b[0m\n",
      "\u001b[31m[22:42:04] src/tree/updater_prune.cc:74: tree pruning end, 1 roots, 0 extra nodes, 52 pruned nodes, max_depth=0\u001b[0m\n",
      "\u001b[31m[124]#011train-rmse:0.244799#011validation-rmse:0.316926\u001b[0m\n",
      "\u001b[31m[22:42:07] src/tree/updater_prune.cc:74: tree pruning end, 1 roots, 0 extra nodes, 60 pruned nodes, max_depth=0\u001b[0m\n",
      "\u001b[31m[125]#011train-rmse:0.244816#011validation-rmse:0.316939\u001b[0m\n",
      "\u001b[31m[22:42:09] src/tree/updater_prune.cc:74: tree pruning end, 1 roots, 12 extra nodes, 72 pruned nodes, max_depth=6\u001b[0m\n",
      "\u001b[31m[126]#011train-rmse:0.244473#011validation-rmse:0.316864\u001b[0m\n",
      "\u001b[31m[22:42:12] src/tree/updater_prune.cc:74: tree pruning end, 1 roots, 0 extra nodes, 46 pruned nodes, max_depth=0\u001b[0m\n",
      "\u001b[31m[127]#011train-rmse:0.244457#011validation-rmse:0.316852\u001b[0m\n",
      "\u001b[31m[22:42:15] src/tree/updater_prune.cc:74: tree pruning end, 1 roots, 0 extra nodes, 56 pruned nodes, max_depth=0\u001b[0m\n",
      "\u001b[31m[128]#011train-rmse:0.244457#011validation-rmse:0.316852\u001b[0m\n",
      "\u001b[31m[22:42:17] src/tree/updater_prune.cc:74: tree pruning end, 1 roots, 12 extra nodes, 52 pruned nodes, max_depth=6\u001b[0m\n",
      "\u001b[31m[129]#011train-rmse:0.244046#011validation-rmse:0.316838\u001b[0m\n",
      "\u001b[31m[22:42:20] src/tree/updater_prune.cc:74: tree pruning end, 1 roots, 0 extra nodes, 40 pruned nodes, max_depth=0\u001b[0m\n",
      "\u001b[31m[130]#011train-rmse:0.244033#011validation-rmse:0.316829\u001b[0m\n",
      "\u001b[31m[22:42:22] src/tree/updater_prune.cc:74: tree pruning end, 1 roots, 0 extra nodes, 62 pruned nodes, max_depth=0\u001b[0m\n",
      "\u001b[31m[131]#011train-rmse:0.244041#011validation-rmse:0.316835\u001b[0m\n",
      "\u001b[31m[22:42:25] src/tree/updater_prune.cc:74: tree pruning end, 1 roots, 0 extra nodes, 48 pruned nodes, max_depth=0\u001b[0m\n",
      "\u001b[31m[132]#011train-rmse:0.244039#011validation-rmse:0.316834\u001b[0m\n",
      "\u001b[31m[22:42:28] src/tree/updater_prune.cc:74: tree pruning end, 1 roots, 0 extra nodes, 52 pruned nodes, max_depth=0\u001b[0m\n",
      "\u001b[31m[133]#011train-rmse:0.244033#011validation-rmse:0.316829\u001b[0m\n",
      "\u001b[31m[22:42:30] src/tree/updater_prune.cc:74: tree pruning end, 1 roots, 0 extra nodes, 82 pruned nodes, max_depth=0\u001b[0m\n",
      "\u001b[31m[134]#011train-rmse:0.244046#011validation-rmse:0.316839\u001b[0m\n",
      "\u001b[31m[22:42:33] src/tree/updater_prune.cc:74: tree pruning end, 1 roots, 2 extra nodes, 58 pruned nodes, max_depth=1\u001b[0m\n",
      "\u001b[31m[135]#011train-rmse:0.243947#011validation-rmse:0.316775\u001b[0m\n",
      "\u001b[31m[22:42:35] src/tree/updater_prune.cc:74: tree pruning end, 1 roots, 0 extra nodes, 34 pruned nodes, max_depth=0\u001b[0m\n",
      "\u001b[31m[136]#011train-rmse:0.243953#011validation-rmse:0.316779\u001b[0m\n",
      "\u001b[31m[22:42:38] src/tree/updater_prune.cc:74: tree pruning end, 1 roots, 20 extra nodes, 42 pruned nodes, max_depth=10\u001b[0m\n",
      "\u001b[31m[137]#011train-rmse:0.243293#011validation-rmse:0.316526\u001b[0m\n",
      "\u001b[31m[22:42:41] src/tree/updater_prune.cc:74: tree pruning end, 1 roots, 0 extra nodes, 26 pruned nodes, max_depth=0\u001b[0m\n",
      "\u001b[31m[138]#011train-rmse:0.243313#011validation-rmse:0.31654\u001b[0m\n",
      "\u001b[31m[22:42:43] src/tree/updater_prune.cc:74: tree pruning end, 1 roots, 0 extra nodes, 44 pruned nodes, max_depth=0\u001b[0m\n",
      "\u001b[31m[139]#011train-rmse:0.243292#011validation-rmse:0.316526\u001b[0m\n",
      "\u001b[31m[22:42:46] src/tree/updater_prune.cc:74: tree pruning end, 1 roots, 0 extra nodes, 60 pruned nodes, max_depth=0\u001b[0m\n",
      "\u001b[31m[140]#011train-rmse:0.243307#011validation-rmse:0.316536\u001b[0m\n",
      "\u001b[31m[22:42:48] src/tree/updater_prune.cc:74: tree pruning end, 1 roots, 18 extra nodes, 48 pruned nodes, max_depth=9\u001b[0m\n",
      "\u001b[31m[141]#011train-rmse:0.242723#011validation-rmse:0.316419\u001b[0m\n",
      "\u001b[31m[22:42:51] src/tree/updater_prune.cc:74: tree pruning end, 1 roots, 0 extra nodes, 48 pruned nodes, max_depth=0\u001b[0m\n",
      "\u001b[31m[142]#011train-rmse:0.242733#011validation-rmse:0.316425\u001b[0m\n",
      "\u001b[31m[22:42:53] src/tree/updater_prune.cc:74: tree pruning end, 1 roots, 2 extra nodes, 40 pruned nodes, max_depth=1\u001b[0m\n",
      "\u001b[31m[143]#011train-rmse:0.242617#011validation-rmse:0.316425\u001b[0m\n",
      "\u001b[31m[22:42:56] src/tree/updater_prune.cc:74: tree pruning end, 1 roots, 0 extra nodes, 46 pruned nodes, max_depth=0\u001b[0m\n",
      "\u001b[31m[144]#011train-rmse:0.242613#011validation-rmse:0.316421\u001b[0m\n",
      "\u001b[31m[22:42:59] src/tree/updater_prune.cc:74: tree pruning end, 1 roots, 0 extra nodes, 28 pruned nodes, max_depth=0\u001b[0m\n",
      "\u001b[31m[145]#011train-rmse:0.242606#011validation-rmse:0.316416\u001b[0m\n",
      "\u001b[31m[22:43:01] src/tree/updater_prune.cc:74: tree pruning end, 1 roots, 0 extra nodes, 60 pruned nodes, max_depth=0\u001b[0m\n",
      "\u001b[31m[146]#011train-rmse:0.242621#011validation-rmse:0.316427\u001b[0m\n",
      "\u001b[31m[22:43:04] src/tree/updater_prune.cc:74: tree pruning end, 1 roots, 0 extra nodes, 36 pruned nodes, max_depth=0\u001b[0m\n",
      "\u001b[31m[147]#011train-rmse:0.242639#011validation-rmse:0.31644\u001b[0m\n",
      "\u001b[31m[22:43:06] src/tree/updater_prune.cc:74: tree pruning end, 1 roots, 8 extra nodes, 46 pruned nodes, max_depth=4\u001b[0m\n",
      "\u001b[31m[148]#011train-rmse:0.242297#011validation-rmse:0.316379\u001b[0m\n",
      "\u001b[31m[22:43:09] src/tree/updater_prune.cc:74: tree pruning end, 1 roots, 4 extra nodes, 68 pruned nodes, max_depth=2\u001b[0m\n",
      "\u001b[31m[149]#011train-rmse:0.242169#011validation-rmse:0.316334\u001b[0m\n",
      "\u001b[31m[22:43:12] src/tree/updater_prune.cc:74: tree pruning end, 1 roots, 0 extra nodes, 52 pruned nodes, max_depth=0\u001b[0m\n",
      "\u001b[31m[150]#011train-rmse:0.242173#011validation-rmse:0.316337\u001b[0m\n",
      "\u001b[31m[22:43:14] src/tree/updater_prune.cc:74: tree pruning end, 1 roots, 0 extra nodes, 42 pruned nodes, max_depth=0\u001b[0m\n",
      "\u001b[31m[151]#011train-rmse:0.242181#011validation-rmse:0.316343\u001b[0m\n",
      "\u001b[31m[22:43:17] src/tree/updater_prune.cc:74: tree pruning end, 1 roots, 0 extra nodes, 64 pruned nodes, max_depth=0\u001b[0m\n",
      "\u001b[31m[152]#011train-rmse:0.242163#011validation-rmse:0.31633\u001b[0m\n",
      "\u001b[31m[22:43:19] src/tree/updater_prune.cc:74: tree pruning end, 1 roots, 0 extra nodes, 36 pruned nodes, max_depth=0\u001b[0m\n",
      "\u001b[31m[153]#011train-rmse:0.24217#011validation-rmse:0.316335\u001b[0m\n",
      "\u001b[31m[22:43:22] src/tree/updater_prune.cc:74: tree pruning end, 1 roots, 4 extra nodes, 62 pruned nodes, max_depth=2\u001b[0m\n",
      "\u001b[31m[154]#011train-rmse:0.242076#011validation-rmse:0.316353\u001b[0m\n",
      "\u001b[31m[22:43:24] src/tree/updater_prune.cc:74: tree pruning end, 1 roots, 2 extra nodes, 24 pruned nodes, max_depth=1\u001b[0m\n",
      "\u001b[31m[155]#011train-rmse:0.242005#011validation-rmse:0.316277\u001b[0m\n",
      "\u001b[31m[22:43:27] src/tree/updater_prune.cc:74: tree pruning end, 1 roots, 0 extra nodes, 38 pruned nodes, max_depth=0\u001b[0m\n",
      "\u001b[31m[156]#011train-rmse:0.242002#011validation-rmse:0.316275\u001b[0m\n",
      "\u001b[31m[22:43:30] src/tree/updater_prune.cc:74: tree pruning end, 1 roots, 0 extra nodes, 38 pruned nodes, max_depth=0\u001b[0m\n",
      "\u001b[31m[157]#011train-rmse:0.24199#011validation-rmse:0.316266\u001b[0m\n",
      "\u001b[31m[22:43:32] src/tree/updater_prune.cc:74: tree pruning end, 1 roots, 0 extra nodes, 26 pruned nodes, max_depth=0\u001b[0m\n",
      "\u001b[31m[158]#011train-rmse:0.24198#011validation-rmse:0.316258\u001b[0m\n",
      "\u001b[31m[22:43:35] src/tree/updater_prune.cc:74: tree pruning end, 1 roots, 6 extra nodes, 40 pruned nodes, max_depth=3\u001b[0m\n",
      "\u001b[31m[159]#011train-rmse:0.241765#011validation-rmse:0.316204\u001b[0m\n",
      "\u001b[31m[22:43:37] src/tree/updater_prune.cc:74: tree pruning end, 1 roots, 0 extra nodes, 24 pruned nodes, max_depth=0\u001b[0m\n",
      "\u001b[31m[160]#011train-rmse:0.241768#011validation-rmse:0.316206\u001b[0m\n",
      "\u001b[31m[22:43:40] src/tree/updater_prune.cc:74: tree pruning end, 1 roots, 0 extra nodes, 52 pruned nodes, max_depth=0\u001b[0m\n",
      "\u001b[31m[161]#011train-rmse:0.241757#011validation-rmse:0.316198\u001b[0m\n",
      "\u001b[31m[22:43:42] src/tree/updater_prune.cc:74: tree pruning end, 1 roots, 0 extra nodes, 32 pruned nodes, max_depth=0\u001b[0m\n",
      "\u001b[31m[162]#011train-rmse:0.241759#011validation-rmse:0.316199\u001b[0m\n",
      "\u001b[31m[22:43:45] src/tree/updater_prune.cc:74: tree pruning end, 1 roots, 0 extra nodes, 38 pruned nodes, max_depth=0\u001b[0m\n",
      "\u001b[31m[163]#011train-rmse:0.241762#011validation-rmse:0.316201\u001b[0m\n",
      "\u001b[31m[22:43:48] src/tree/updater_prune.cc:74: tree pruning end, 1 roots, 0 extra nodes, 62 pruned nodes, max_depth=0\u001b[0m\n",
      "\u001b[31m[164]#011train-rmse:0.241758#011validation-rmse:0.316199\u001b[0m\n",
      "\u001b[31m[22:43:50] src/tree/updater_prune.cc:74: tree pruning end, 1 roots, 0 extra nodes, 38 pruned nodes, max_depth=0\u001b[0m\n",
      "\u001b[31m[165]#011train-rmse:0.241744#011validation-rmse:0.316188\u001b[0m\n",
      "\u001b[31m[22:43:53] src/tree/updater_prune.cc:74: tree pruning end, 1 roots, 0 extra nodes, 42 pruned nodes, max_depth=0\u001b[0m\n",
      "\u001b[31m[166]#011train-rmse:0.241755#011validation-rmse:0.316196\u001b[0m\n",
      "\u001b[31m[22:43:55] src/tree/updater_prune.cc:74: tree pruning end, 1 roots, 0 extra nodes, 40 pruned nodes, max_depth=0\u001b[0m\n",
      "\u001b[31m[167]#011train-rmse:0.24176#011validation-rmse:0.3162\u001b[0m\n",
      "\u001b[31m[22:43:58] src/tree/updater_prune.cc:74: tree pruning end, 1 roots, 0 extra nodes, 40 pruned nodes, max_depth=0\u001b[0m\n",
      "\u001b[31m[168]#011train-rmse:0.241772#011validation-rmse:0.316209\u001b[0m\n",
      "\u001b[31m[22:44:01] src/tree/updater_prune.cc:74: tree pruning end, 1 roots, 0 extra nodes, 36 pruned nodes, max_depth=0\u001b[0m\n",
      "\u001b[31m[169]#011train-rmse:0.241761#011validation-rmse:0.316201\u001b[0m\n",
      "\u001b[31m[22:44:03] src/tree/updater_prune.cc:74: tree pruning end, 1 roots, 0 extra nodes, 32 pruned nodes, max_depth=0\u001b[0m\n",
      "\u001b[31m[170]#011train-rmse:0.241759#011validation-rmse:0.316199\u001b[0m\n",
      "\u001b[31m[22:44:06] src/tree/updater_prune.cc:74: tree pruning end, 1 roots, 0 extra nodes, 56 pruned nodes, max_depth=0\u001b[0m\n",
      "\u001b[31m[171]#011train-rmse:0.241771#011validation-rmse:0.316208\u001b[0m\n",
      "\u001b[31m[22:44:08] src/tree/updater_prune.cc:74: tree pruning end, 1 roots, 0 extra nodes, 52 pruned nodes, max_depth=0\u001b[0m\n",
      "\u001b[31m[172]#011train-rmse:0.24175#011validation-rmse:0.316193\u001b[0m\n",
      "\u001b[31m[22:44:11] src/tree/updater_prune.cc:74: tree pruning end, 1 roots, 0 extra nodes, 46 pruned nodes, max_depth=0\u001b[0m\n",
      "\u001b[31m[173]#011train-rmse:0.241766#011validation-rmse:0.316204\u001b[0m\n",
      "\u001b[31m[22:44:13] src/tree/updater_prune.cc:74: tree pruning end, 1 roots, 0 extra nodes, 54 pruned nodes, max_depth=0\u001b[0m\n",
      "\u001b[31m[174]#011train-rmse:0.241768#011validation-rmse:0.316206\u001b[0m\n",
      "\u001b[31m[22:44:16] src/tree/updater_prune.cc:74: tree pruning end, 1 roots, 2 extra nodes, 58 pruned nodes, max_depth=1\u001b[0m\n",
      "\u001b[31m[175]#011train-rmse:0.241715#011validation-rmse:0.316131\u001b[0m\n",
      "\u001b[31m[22:44:19] src/tree/updater_prune.cc:74: tree pruning end, 1 roots, 0 extra nodes, 30 pruned nodes, max_depth=0\u001b[0m\n",
      "\u001b[31m[176]#011train-rmse:0.241715#011validation-rmse:0.316131\u001b[0m\n",
      "\u001b[31m[22:44:21] src/tree/updater_prune.cc:74: tree pruning end, 1 roots, 0 extra nodes, 34 pruned nodes, max_depth=0\u001b[0m\n",
      "\u001b[31m[177]#011train-rmse:0.241715#011validation-rmse:0.316131\u001b[0m\n",
      "\u001b[31m[22:44:24] src/tree/updater_prune.cc:74: tree pruning end, 1 roots, 0 extra nodes, 56 pruned nodes, max_depth=0\u001b[0m\n",
      "\u001b[31m[178]#011train-rmse:0.24171#011validation-rmse:0.316127\u001b[0m\n",
      "\u001b[31m[22:44:26] src/tree/updater_prune.cc:74: tree pruning end, 1 roots, 0 extra nodes, 40 pruned nodes, max_depth=0\u001b[0m\n",
      "\u001b[31m[179]#011train-rmse:0.241709#011validation-rmse:0.316126\u001b[0m\n",
      "\u001b[31m[22:44:29] src/tree/updater_prune.cc:74: tree pruning end, 1 roots, 0 extra nodes, 52 pruned nodes, max_depth=0\u001b[0m\n",
      "\u001b[31m[180]#011train-rmse:0.241723#011validation-rmse:0.316136\u001b[0m\n",
      "\u001b[31m[22:44:31] src/tree/updater_prune.cc:74: tree pruning end, 1 roots, 0 extra nodes, 36 pruned nodes, max_depth=0\u001b[0m\n",
      "\u001b[31m[181]#011train-rmse:0.241721#011validation-rmse:0.316136\u001b[0m\n",
      "\u001b[31m[22:44:34] src/tree/updater_prune.cc:74: tree pruning end, 1 roots, 0 extra nodes, 36 pruned nodes, max_depth=0\u001b[0m\n",
      "\u001b[31m[182]#011train-rmse:0.24173#011validation-rmse:0.316142\u001b[0m\n",
      "\u001b[31m[22:44:36] src/tree/updater_prune.cc:74: tree pruning end, 1 roots, 0 extra nodes, 24 pruned nodes, max_depth=0\u001b[0m\n",
      "\u001b[31m[183]#011train-rmse:0.241737#011validation-rmse:0.316147\u001b[0m\n",
      "\u001b[31m[22:44:39] src/tree/updater_prune.cc:74: tree pruning end, 1 roots, 6 extra nodes, 56 pruned nodes, max_depth=3\u001b[0m\n",
      "\u001b[31m[184]#011train-rmse:0.24159#011validation-rmse:0.316014\u001b[0m\n",
      "\u001b[31m[22:44:42] src/tree/updater_prune.cc:74: tree pruning end, 1 roots, 0 extra nodes, 38 pruned nodes, max_depth=0\u001b[0m\n",
      "\u001b[31m[185]#011train-rmse:0.241588#011validation-rmse:0.316012\u001b[0m\n",
      "\u001b[31m[22:44:44] src/tree/updater_prune.cc:74: tree pruning end, 1 roots, 0 extra nodes, 38 pruned nodes, max_depth=0\u001b[0m\n",
      "\u001b[31m[186]#011train-rmse:0.241593#011validation-rmse:0.316016\u001b[0m\n",
      "\u001b[31m[22:44:47] src/tree/updater_prune.cc:74: tree pruning end, 1 roots, 0 extra nodes, 64 pruned nodes, max_depth=0\u001b[0m\n",
      "\u001b[31m[187]#011train-rmse:0.241588#011validation-rmse:0.316013\u001b[0m\n",
      "\u001b[31m[22:44:49] src/tree/updater_prune.cc:74: tree pruning end, 1 roots, 0 extra nodes, 40 pruned nodes, max_depth=0\u001b[0m\n",
      "\u001b[31m[188]#011train-rmse:0.241583#011validation-rmse:0.316009\u001b[0m\n",
      "\u001b[31m[22:44:52] src/tree/updater_prune.cc:74: tree pruning end, 1 roots, 0 extra nodes, 32 pruned nodes, max_depth=0\u001b[0m\n",
      "\u001b[31m[189]#011train-rmse:0.241595#011validation-rmse:0.316018\u001b[0m\n",
      "\u001b[31m[22:44:55] src/tree/updater_prune.cc:74: tree pruning end, 1 roots, 0 extra nodes, 38 pruned nodes, max_depth=0\u001b[0m\n",
      "\u001b[31m[190]#011train-rmse:0.241596#011validation-rmse:0.316018\u001b[0m\n",
      "\u001b[31m[22:44:58] src/tree/updater_prune.cc:74: tree pruning end, 1 roots, 0 extra nodes, 32 pruned nodes, max_depth=0\u001b[0m\n",
      "\u001b[31m[191]#011train-rmse:0.241611#011validation-rmse:0.31603\u001b[0m\n",
      "\u001b[31m[22:45:00] src/tree/updater_prune.cc:74: tree pruning end, 1 roots, 0 extra nodes, 34 pruned nodes, max_depth=0\u001b[0m\n",
      "\u001b[31m[192]#011train-rmse:0.241659#011validation-rmse:0.316065\u001b[0m\n",
      "\u001b[31m[22:45:03] src/tree/updater_prune.cc:74: tree pruning end, 1 roots, 2 extra nodes, 30 pruned nodes, max_depth=1\u001b[0m\n",
      "\u001b[31m[193]#011train-rmse:0.241532#011validation-rmse:0.316071\u001b[0m\n",
      "\u001b[31m[22:45:06] src/tree/updater_prune.cc:74: tree pruning end, 1 roots, 0 extra nodes, 44 pruned nodes, max_depth=0\u001b[0m\n",
      "\u001b[31m[194]#011train-rmse:0.241546#011validation-rmse:0.316081\u001b[0m\n",
      "\u001b[31m[22:45:08] src/tree/updater_prune.cc:74: tree pruning end, 1 roots, 18 extra nodes, 34 pruned nodes, max_depth=9\u001b[0m\n",
      "\u001b[31m[195]#011train-rmse:0.240891#011validation-rmse:0.315809\u001b[0m\n",
      "\u001b[31m[22:45:11] src/tree/updater_prune.cc:74: tree pruning end, 1 roots, 0 extra nodes, 58 pruned nodes, max_depth=0\u001b[0m\n",
      "\u001b[31m[196]#011train-rmse:0.24089#011validation-rmse:0.315808\u001b[0m\n",
      "\u001b[31m[22:45:13] src/tree/updater_prune.cc:74: tree pruning end, 1 roots, 0 extra nodes, 50 pruned nodes, max_depth=0\u001b[0m\n",
      "\u001b[31m[197]#011train-rmse:0.240886#011validation-rmse:0.315805\u001b[0m\n",
      "\u001b[31m[22:45:16] src/tree/updater_prune.cc:74: tree pruning end, 1 roots, 0 extra nodes, 38 pruned nodes, max_depth=0\u001b[0m\n",
      "\u001b[31m[198]#011train-rmse:0.240872#011validation-rmse:0.315795\u001b[0m\n",
      "\u001b[31m[22:45:19] src/tree/updater_prune.cc:74: tree pruning end, 1 roots, 0 extra nodes, 28 pruned nodes, max_depth=0\u001b[0m\n",
      "\u001b[31m[199]#011train-rmse:0.24087#011validation-rmse:0.315793\u001b[0m\n",
      "\u001b[31m[22:45:21] src/tree/updater_prune.cc:74: tree pruning end, 1 roots, 0 extra nodes, 54 pruned nodes, max_depth=0\u001b[0m\n",
      "\u001b[31m[200]#011train-rmse:0.240878#011validation-rmse:0.315799\u001b[0m\n",
      "\u001b[31m[22:45:24] src/tree/updater_prune.cc:74: tree pruning end, 1 roots, 0 extra nodes, 40 pruned nodes, max_depth=0\u001b[0m\n",
      "\u001b[31m[201]#011train-rmse:0.240885#011validation-rmse:0.315804\u001b[0m\n",
      "\u001b[31m[22:45:26] src/tree/updater_prune.cc:74: tree pruning end, 1 roots, 0 extra nodes, 46 pruned nodes, max_depth=0\u001b[0m\n",
      "\u001b[31m[202]#011train-rmse:0.240881#011validation-rmse:0.315801\u001b[0m\n",
      "\u001b[31m[22:45:29] src/tree/updater_prune.cc:74: tree pruning end, 1 roots, 0 extra nodes, 50 pruned nodes, max_depth=0\u001b[0m\n",
      "\u001b[31m[203]#011train-rmse:0.240888#011validation-rmse:0.315806\u001b[0m\n",
      "\u001b[31m[22:45:32] src/tree/updater_prune.cc:74: tree pruning end, 1 roots, 16 extra nodes, 34 pruned nodes, max_depth=8\u001b[0m\n",
      "\u001b[31m[204]#011train-rmse:0.240581#011validation-rmse:0.31587\u001b[0m\n",
      "\u001b[31m[22:45:34] src/tree/updater_prune.cc:74: tree pruning end, 1 roots, 0 extra nodes, 52 pruned nodes, max_depth=0\u001b[0m\n",
      "\u001b[31m[205]#011train-rmse:0.24059#011validation-rmse:0.315877\u001b[0m\n",
      "\u001b[31m[22:45:37] src/tree/updater_prune.cc:74: tree pruning end, 1 roots, 0 extra nodes, 62 pruned nodes, max_depth=0\u001b[0m\n",
      "\u001b[31m[206]#011train-rmse:0.240588#011validation-rmse:0.315875\u001b[0m\n",
      "\u001b[31m[22:45:39] src/tree/updater_prune.cc:74: tree pruning end, 1 roots, 10 extra nodes, 70 pruned nodes, max_depth=5\u001b[0m\n",
      "\u001b[31m[207]#011train-rmse:0.240178#011validation-rmse:0.315688\u001b[0m\n",
      "\u001b[31m[22:45:42] src/tree/updater_prune.cc:74: tree pruning end, 1 roots, 0 extra nodes, 50 pruned nodes, max_depth=0\u001b[0m\n",
      "\u001b[31m[208]#011train-rmse:0.240175#011validation-rmse:0.315686\u001b[0m\n",
      "\u001b[31m[22:45:44] src/tree/updater_prune.cc:74: tree pruning end, 1 roots, 0 extra nodes, 66 pruned nodes, max_depth=0\u001b[0m\n",
      "\u001b[31m[209]#011train-rmse:0.240174#011validation-rmse:0.315684\u001b[0m\n",
      "\u001b[31m[22:45:47] src/tree/updater_prune.cc:74: tree pruning end, 1 roots, 6 extra nodes, 40 pruned nodes, max_depth=3\u001b[0m\n",
      "\u001b[31m[210]#011train-rmse:0.240034#011validation-rmse:0.315625\u001b[0m\n",
      "\u001b[31m[22:45:50] src/tree/updater_prune.cc:74: tree pruning end, 1 roots, 0 extra nodes, 44 pruned nodes, max_depth=0\u001b[0m\n",
      "\u001b[31m[211]#011train-rmse:0.240044#011validation-rmse:0.315633\u001b[0m\n",
      "\u001b[31m[22:45:52] src/tree/updater_prune.cc:74: tree pruning end, 1 roots, 0 extra nodes, 28 pruned nodes, max_depth=0\u001b[0m\n",
      "\u001b[31m[212]#011train-rmse:0.240054#011validation-rmse:0.31564\u001b[0m\n",
      "\u001b[31m[22:45:55] src/tree/updater_prune.cc:74: tree pruning end, 1 roots, 8 extra nodes, 34 pruned nodes, max_depth=4\u001b[0m\n",
      "\u001b[31m[213]#011train-rmse:0.239752#011validation-rmse:0.315638\u001b[0m\n",
      "\u001b[31m[22:45:57] src/tree/updater_prune.cc:74: tree pruning end, 1 roots, 0 extra nodes, 38 pruned nodes, max_depth=0\u001b[0m\n",
      "\u001b[31m[214]#011train-rmse:0.239746#011validation-rmse:0.315634\u001b[0m\n",
      "\u001b[31m[22:46:00] src/tree/updater_prune.cc:74: tree pruning end, 1 roots, 0 extra nodes, 36 pruned nodes, max_depth=0\u001b[0m\n",
      "\u001b[31m[215]#011train-rmse:0.239737#011validation-rmse:0.315628\u001b[0m\n",
      "\u001b[31m[22:46:02] src/tree/updater_prune.cc:74: tree pruning end, 1 roots, 0 extra nodes, 34 pruned nodes, max_depth=0\u001b[0m\n",
      "\u001b[31m[216]#011train-rmse:0.23973#011validation-rmse:0.315623\u001b[0m\n",
      "\u001b[31m[22:46:05] src/tree/updater_prune.cc:74: tree pruning end, 1 roots, 14 extra nodes, 44 pruned nodes, max_depth=7\u001b[0m\n",
      "\u001b[31m[217]#011train-rmse:0.239277#011validation-rmse:0.315657\u001b[0m\n",
      "\u001b[31m[22:46:08] src/tree/updater_prune.cc:74: tree pruning end, 1 roots, 10 extra nodes, 60 pruned nodes, max_depth=5\u001b[0m\n",
      "\u001b[31m[218]#011train-rmse:0.239019#011validation-rmse:0.31546\u001b[0m\n",
      "\u001b[31m[22:46:10] src/tree/updater_prune.cc:74: tree pruning end, 1 roots, 0 extra nodes, 44 pruned nodes, max_depth=0\u001b[0m\n",
      "\u001b[31m[219]#011train-rmse:0.239017#011validation-rmse:0.315459\u001b[0m\n",
      "\u001b[31m[22:46:13] src/tree/updater_prune.cc:74: tree pruning end, 1 roots, 0 extra nodes, 76 pruned nodes, max_depth=0\u001b[0m\n",
      "\u001b[31m[220]#011train-rmse:0.239009#011validation-rmse:0.315453\u001b[0m\n",
      "\u001b[31m[22:46:15] src/tree/updater_prune.cc:74: tree pruning end, 1 roots, 0 extra nodes, 36 pruned nodes, max_depth=0\u001b[0m\n",
      "\u001b[31m[221]#011train-rmse:0.239013#011validation-rmse:0.315456\u001b[0m\n",
      "\u001b[31m[22:46:18] src/tree/updater_prune.cc:74: tree pruning end, 1 roots, 0 extra nodes, 38 pruned nodes, max_depth=0\u001b[0m\n",
      "\u001b[31m[222]#011train-rmse:0.239014#011validation-rmse:0.315457\u001b[0m\n",
      "\u001b[31m[22:46:20] src/tree/updater_prune.cc:74: tree pruning end, 1 roots, 0 extra nodes, 54 pruned nodes, max_depth=0\u001b[0m\n",
      "\u001b[31m[223]#011train-rmse:0.239#011validation-rmse:0.315447\u001b[0m\n",
      "\u001b[31m[22:46:23] src/tree/updater_prune.cc:74: tree pruning end, 1 roots, 0 extra nodes, 68 pruned nodes, max_depth=0\u001b[0m\n",
      "\u001b[31m[224]#011train-rmse:0.23901#011validation-rmse:0.315454\u001b[0m\n",
      "\u001b[31m[22:46:25] src/tree/updater_prune.cc:74: tree pruning end, 1 roots, 0 extra nodes, 36 pruned nodes, max_depth=0\u001b[0m\n",
      "\u001b[31m[225]#011train-rmse:0.239009#011validation-rmse:0.315454\u001b[0m\n",
      "\u001b[31m[22:46:28] src/tree/updater_prune.cc:74: tree pruning end, 1 roots, 0 extra nodes, 38 pruned nodes, max_depth=0\u001b[0m\n",
      "\u001b[31m[226]#011train-rmse:0.239007#011validation-rmse:0.315452\u001b[0m\n",
      "\u001b[31m[22:46:31] src/tree/updater_prune.cc:74: tree pruning end, 1 roots, 0 extra nodes, 34 pruned nodes, max_depth=0\u001b[0m\n",
      "\u001b[31m[227]#011train-rmse:0.239027#011validation-rmse:0.315466\u001b[0m\n",
      "\u001b[31m[22:46:33] src/tree/updater_prune.cc:74: tree pruning end, 1 roots, 0 extra nodes, 52 pruned nodes, max_depth=0\u001b[0m\n",
      "\u001b[31m[228]#011train-rmse:0.239035#011validation-rmse:0.315472\u001b[0m\n",
      "\u001b[31m[22:46:36] src/tree/updater_prune.cc:74: tree pruning end, 1 roots, 0 extra nodes, 34 pruned nodes, max_depth=0\u001b[0m\n",
      "\u001b[31m[229]#011train-rmse:0.239041#011validation-rmse:0.315476\u001b[0m\n",
      "\u001b[31m[22:46:38] src/tree/updater_prune.cc:74: tree pruning end, 1 roots, 0 extra nodes, 36 pruned nodes, max_depth=0\u001b[0m\n",
      "\u001b[31m[230]#011train-rmse:0.239019#011validation-rmse:0.315461\u001b[0m\n",
      "\u001b[31m[22:46:41] src/tree/updater_prune.cc:74: tree pruning end, 1 roots, 0 extra nodes, 42 pruned nodes, max_depth=0\u001b[0m\n",
      "\u001b[31m[231]#011train-rmse:0.239014#011validation-rmse:0.315457\u001b[0m\n",
      "\u001b[31m[22:46:43] src/tree/updater_prune.cc:74: tree pruning end, 1 roots, 0 extra nodes, 52 pruned nodes, max_depth=0\u001b[0m\n",
      "\u001b[31m[232]#011train-rmse:0.239028#011validation-rmse:0.315466\u001b[0m\n",
      "\u001b[31m[22:46:46] src/tree/updater_prune.cc:74: tree pruning end, 1 roots, 0 extra nodes, 74 pruned nodes, max_depth=0\u001b[0m\n",
      "\u001b[31m[233]#011train-rmse:0.239039#011validation-rmse:0.315474\u001b[0m\n",
      "\u001b[31mStopping. Best iteration:\u001b[0m\n",
      "\u001b[31m[223]#011train-rmse:0.239#011validation-rmse:0.315447\n",
      "\u001b[0m\n",
      "Billable seconds: 655\n"
     ]
    }
   ],
   "source": [
    "# TODO: Create a new estimator object attached to the best training job found during hyperparameter tuning\n",
    "\n",
    "xgb_attached = None\n",
    "\n",
    "# Solution:\n",
    "\n",
    "xgb_attached = sagemaker.estimator.Estimator.attach(xgb_hyperparameter_tuner.best_training_job())"
   ]
  },
  {
   "cell_type": "markdown",
   "metadata": {},
   "source": [
    "Now that we have an estimator object attached to the correct training job, we can proceed as we normally would and create a transformer object."
   ]
  },
  {
   "cell_type": "code",
   "execution_count": 26,
   "metadata": {},
   "outputs": [],
   "source": [
    "# TODO: Create a transformer object from the attached estimator. Using an instance count of 1 and an instance type of ml.m4.xlarge\n",
    "#       should be more than enough.\n",
    "\n",
    "xgb_transformer = None\n",
    "\n",
    "# Solution:\n",
    "xgb_transformer = xgb_attached.transformer(instance_count = 1, instance_type = 'ml.m4.xlarge')"
   ]
  },
  {
   "cell_type": "markdown",
   "metadata": {},
   "source": [
    "Next we actually perform the transform job. When doing so we need to make sure to specify the type of data we are sending so that it is serialized correctly in the background. In our case we are providing our model with csv data so we specify `text/csv`. Also, if the test data that we have provided is too large to process all at once then we need to specify how the data file should be split up. Since each line is a single entry in our data set we tell SageMaker that it can split the input on each line."
   ]
  },
  {
   "cell_type": "code",
   "execution_count": 27,
   "metadata": {},
   "outputs": [],
   "source": [
    "# TODO: Start the transform job. Make sure to specify the content type and the split type of the test data.\n",
    "xgb_transformer.transform(test_location, content_type='text/csv', split_type='Line')"
   ]
  },
  {
   "cell_type": "markdown",
   "metadata": {},
   "source": [
    "Currently the transform job is running but it is doing so in the background. Since we wish to wait until the transform job is done and we would like a bit of feedback we can run the `wait()` method."
   ]
  },
  {
   "cell_type": "code",
   "execution_count": 28,
   "metadata": {},
   "outputs": [
    {
     "name": "stdout",
     "output_type": "stream",
     "text": [
      "............................................!\n"
     ]
    }
   ],
   "source": [
    "xgb_transformer.wait()"
   ]
  },
  {
   "cell_type": "markdown",
   "metadata": {},
   "source": [
    "Now the transform job has executed and the result, the estimated sentiment of each review, has been saved on S3. Since we would rather work on this file locally we can perform a bit of notebook magic to copy the file to the `data_dir`."
   ]
  },
  {
   "cell_type": "code",
   "execution_count": 29,
   "metadata": {},
   "outputs": [
    {
     "name": "stdout",
     "output_type": "stream",
     "text": [
      "Completed 256.0 KiB/372.5 KiB (3.3 MiB/s) with 1 file(s) remaining\r",
      "Completed 372.5 KiB/372.5 KiB (4.6 MiB/s) with 1 file(s) remaining\r",
      "download: s3://sagemaker-us-east-2-559643369662/xgboost-190709-2225-005-fe3591b2-2019-07-09-22-54-45-140/test.csv.out to ../data/xgboost/test.csv.out\r\n"
     ]
    }
   ],
   "source": [
    "!aws s3 cp --recursive $xgb_transformer.output_path $data_dir"
   ]
  },
  {
   "cell_type": "markdown",
   "metadata": {},
   "source": [
    "The last step is now to read in the output from our model, convert the output to something a little more usable, in this case we want the sentiment to be either `1` (positive) or `0` (negative), and then compare to the ground truth labels."
   ]
  },
  {
   "cell_type": "code",
   "execution_count": 30,
   "metadata": {},
   "outputs": [],
   "source": [
    "predictions = pd.read_csv(os.path.join(data_dir, 'test.csv.out'), header=None)\n",
    "predictions = [round(num) for num in predictions.squeeze().values]"
   ]
  },
  {
   "cell_type": "code",
   "execution_count": 31,
   "metadata": {},
   "outputs": [
    {
     "data": {
      "text/plain": [
       "0.8626"
      ]
     },
     "execution_count": 31,
     "metadata": {},
     "output_type": "execute_result"
    }
   ],
   "source": [
    "from sklearn.metrics import accuracy_score\n",
    "accuracy_score(test_y, predictions)"
   ]
  },
  {
   "cell_type": "markdown",
   "metadata": {},
   "source": [
    "## Optional: Clean up\n",
    "\n",
    "The default notebook instance on SageMaker doesn't have a lot of excess disk space available. As you continue to complete and execute notebooks you will eventually fill up this disk space, leading to errors which can be difficult to diagnose. Once you are completely finished using a notebook it is a good idea to remove the files that you created along the way. Of course, you can do this from the terminal or from the notebook hub if you would like. The cell below contains some commands to clean up the created files from within the notebook."
   ]
  },
  {
   "cell_type": "code",
   "execution_count": null,
   "metadata": {},
   "outputs": [],
   "source": [
    "# First we will remove all of the files contained in the data_dir directory\n",
    "!rm $data_dir/*\n",
    "\n",
    "# And then we delete the directory itself\n",
    "!rmdir $data_dir\n",
    "\n",
    "# Similarly we will remove the files in the cache_dir directory and the directory itself\n",
    "!rm $cache_dir/*\n",
    "!rmdir $cache_dir"
   ]
  },
  {
   "cell_type": "code",
   "execution_count": null,
   "metadata": {},
   "outputs": [],
   "source": []
  }
 ],
 "metadata": {
  "kernelspec": {
   "display_name": "conda_python3",
   "language": "python",
   "name": "conda_python3"
  },
  "language_info": {
   "codemirror_mode": {
    "name": "ipython",
    "version": 3
   },
   "file_extension": ".py",
   "mimetype": "text/x-python",
   "name": "python",
   "nbconvert_exporter": "python",
   "pygments_lexer": "ipython3",
   "version": "3.6.5"
  }
 },
 "nbformat": 4,
 "nbformat_minor": 2
}
